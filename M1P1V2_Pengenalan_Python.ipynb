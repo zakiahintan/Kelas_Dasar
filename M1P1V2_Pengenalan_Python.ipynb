{
  "nbformat": 4,
  "nbformat_minor": 0,
  "metadata": {
    "colab": {
      "name": "Untitled0.ipynb",
      "provenance": [],
      "collapsed_sections": [],
      "authorship_tag": "ABX9TyPxhti50AmVUdZQVwt/oHuu",
      "include_colab_link": true
    },
    "kernelspec": {
      "name": "python3",
      "display_name": "Python 3"
    },
    "language_info": {
      "name": "python"
    }
  },
  "cells": [
    {
      "cell_type": "markdown",
      "metadata": {
        "id": "view-in-github",
        "colab_type": "text"
      },
      "source": [
        "<a href=\"https://colab.research.google.com/github/zakiahintan/Kelas_Dasar/blob/main/M1P1V2_Pengenalan_Python.ipynb\" target=\"_parent\"><img src=\"https://colab.research.google.com/assets/colab-badge.svg\" alt=\"Open In Colab\"/></a>"
      ]
    },
    {
      "cell_type": "markdown",
      "metadata": {
        "id": "yY8TnJIFpJvH"
      },
      "source": [
        "# Pengenalan Python\n"
      ]
    },
    {
      "cell_type": "markdown",
      "metadata": {
        "id": "BykyL3cppQWc"
      },
      "source": [
        "Python adalah Bahasa pemrograman tingkat tinggi dengan dynamic semantics, bersifat object oriented dan interpretatif. Bahasa pemrograman ini fokus dikembangkan pada keterbacaan bahasa pemrogramannya.\n",
        "\n",
        "1.   **Bahasa Pemrograman Tingkat Tinggi (High Level Programming)** artinya sintaks kode lebih mudah ditafsirkan oleh manusia.\n",
        "2.   **Interpretatif** ini artinya bahasa ini memerlukan interpreter atau penerjemah. Ini memungkinkan bagi kita untuk menggunakan bahasa yang lebih mudah dipahami\n",
        "3. **Object Oriented** ini berarti bahwa bahsa pemrograman ini berorientasi kepada objek. Hal ini membuat python lebih mudah untuk dikembangkan.\n",
        "4. **Dynamic Semantics** Python secara otomatis akan menyesuaikan tipe dari suatu variabel berdasarkan inputnya"
      ]
    },
    {
      "cell_type": "markdown",
      "metadata": {
        "id": "1QXDOYCxqrup"
      },
      "source": [
        "# Mengapa Python?"
      ]
    },
    {
      "cell_type": "markdown",
      "metadata": {
        "id": "gOBZUAlOrhUT"
      },
      "source": [
        "1. Mudah dipahami\n",
        "2. Gratis dan Open Source\n",
        "3. Dinamis\n",
        "4. Memiliki library terlengkap untuk data sains"
      ]
    },
    {
      "cell_type": "markdown",
      "metadata": {
        "id": "N-4DHhm-rsrR"
      },
      "source": [
        "# Struktur Program Pada Python"
      ]
    },
    {
      "cell_type": "markdown",
      "metadata": {
        "id": "TxKfwc5prxf-"
      },
      "source": [
        "Python pada umumnya terdiri dari :\n",
        "1. **Statements**"
      ]
    },
    {
      "cell_type": "code",
      "metadata": {
        "colab": {
          "base_uri": "https://localhost:8080/"
        },
        "id": "xETpd0hOsBoF",
        "outputId": "5ab213ba-e108-4c49-aeda-e9ee56aaa670"
      },
      "source": [
        "print(\"belajar python menyenangkan\")\n",
        "print(\"halo dunia\")"
      ],
      "execution_count": null,
      "outputs": [
        {
          "output_type": "stream",
          "name": "stdout",
          "text": [
            "belajar python menyenangkan\n",
            "halo dunia\n"
          ]
        }
      ]
    },
    {
      "cell_type": "markdown",
      "metadata": {
        "id": "Gvu6X8OssQfY"
      },
      "source": [
        "2. **Variables**"
      ]
    },
    {
      "cell_type": "code",
      "metadata": {
        "id": "atmc_DeUsWSL"
      },
      "source": [
        "bilangan1 = 5\n",
        "bilangan2 = 10\n",
        "kalimat = \"pejuang data 3\""
      ],
      "execution_count": null,
      "outputs": []
    },
    {
      "cell_type": "markdown",
      "metadata": {
        "id": "XIt9Xt6Qse95"
      },
      "source": [
        "3. **Literals** : Simbol-simbol yang dapat kita gunakan untuk mengisi suatu variabel"
      ]
    },
    {
      "cell_type": "markdown",
      "metadata": {
        "id": "QC2GJ742spAJ"
      },
      "source": [
        "4. **Operators** : Simbol-simbol yang dapat digunakan untuk mengubah nilai dari satu variabel dengan melibatkan satu atau lebih variabel dan literal."
      ]
    },
    {
      "cell_type": "code",
      "metadata": {
        "colab": {
          "base_uri": "https://localhost:8080/"
        },
        "id": "8A4WdUwLs6XQ",
        "outputId": "9346d85a-bf2b-4b73-b133-10ff3b1db130"
      },
      "source": [
        "bilangan1 + bilangan2"
      ],
      "execution_count": null,
      "outputs": [
        {
          "output_type": "execute_result",
          "data": {
            "text/plain": [
              "15"
            ]
          },
          "metadata": {},
          "execution_count": 6
        }
      ]
    },
    {
      "cell_type": "markdown",
      "metadata": {
        "id": "2iftSyYZtZ7b"
      },
      "source": [
        "5. **Reserved Words** : Kumpulan kata-kata yang memiliki makna khusus dalam bahasa pemrograman Python. Kata `False`, `return`,dan `for` merupakan contoh dari reserved words"
      ]
    },
    {
      "cell_type": "markdown",
      "metadata": {
        "id": "qfWSW_mFt0fx"
      },
      "source": [
        "6. **Whitespace** : Pada bahasa Python, spasi dan tab memiliki makna khusus untuk menandai serangkaian blok dalam kode Python"
      ]
    },
    {
      "cell_type": "markdown",
      "metadata": {
        "id": "2bRw7PHzuefK"
      },
      "source": [
        "7. **Comments** : Comments merupakan sekumpulan teks yang dituliskan di dalam sebuah program yang tidak akan memengaruhi hasil dari sebuah program"
      ]
    },
    {
      "cell_type": "markdown",
      "metadata": {
        "id": "oJOLsmB6utNR"
      },
      "source": [
        "Terdapat dua jenis comments di dalam python, yaitu : \n",
        "\n",
        "a. **Single line comment**(comments dalam satu baris) seperti pada contoh berikut:\n",
        "\n"
      ]
    },
    {
      "cell_type": "code",
      "metadata": {
        "colab": {
          "base_uri": "https://localhost:8080/"
        },
        "id": "bmnavRfOvJTg",
        "outputId": "e800082f-13b3-400f-8019-db2f79835c79"
      },
      "source": [
        "# Ini adalah comments\n",
        "print(\"belajar Phyton\")"
      ],
      "execution_count": null,
      "outputs": [
        {
          "output_type": "stream",
          "name": "stdout",
          "text": [
            "belajar Phyton\n"
          ]
        }
      ]
    },
    {
      "cell_type": "markdown",
      "metadata": {
        "id": "3dnUYozBvQbO"
      },
      "source": [
        "b. **Multi line comments**(comments dalam beberapa baris) yang dapat dituliskan seperti pada contoh berikut :"
      ]
    },
    {
      "cell_type": "code",
      "metadata": {
        "colab": {
          "base_uri": "https://localhost:8080/"
        },
        "id": "U1Zw0cVVva_M",
        "outputId": "81a8a8d6-de4e-4ade-cdb5-0812ee489cbf"
      },
      "source": [
        "'''\n",
        "ini adalah komentar panjang\n",
        "bisa digunakan untuk memberikan penjelasan\n",
        "panjang pada sell kode python,\n",
        "misal dokumentasi program, spesifikasi input, output, atau lainnya\n",
        "'''\n",
        "\n",
        "print('Belajar python menyenangkan')"
      ],
      "execution_count": null,
      "outputs": [
        {
          "output_type": "stream",
          "name": "stdout",
          "text": [
            "Belajar python menyenangkan\n"
          ]
        }
      ]
    }
  ]
}