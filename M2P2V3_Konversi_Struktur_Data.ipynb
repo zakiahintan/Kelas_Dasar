{
  "nbformat": 4,
  "nbformat_minor": 0,
  "metadata": {
    "colab": {
      "name": "Untitled7.ipynb",
      "provenance": [],
      "collapsed_sections": [],
      "authorship_tag": "ABX9TyNedwPODRV/gVW1xWjm7h5P",
      "include_colab_link": true
    },
    "kernelspec": {
      "name": "python3",
      "display_name": "Python 3"
    },
    "language_info": {
      "name": "python"
    }
  },
  "cells": [
    {
      "cell_type": "markdown",
      "metadata": {
        "id": "view-in-github",
        "colab_type": "text"
      },
      "source": [
        "<a href=\"https://colab.research.google.com/github/zakiahintan/Kelas_Dasar/blob/main/M2P2V3_Konversi_Struktur_Data.ipynb\" target=\"_parent\"><img src=\"https://colab.research.google.com/assets/colab-badge.svg\" alt=\"Open In Colab\"/></a>"
      ]
    },
    {
      "cell_type": "markdown",
      "metadata": {
        "id": "EmqSIzI3A01V"
      },
      "source": [
        "# Konversi Struktur Data"
      ]
    },
    {
      "cell_type": "markdown",
      "metadata": {
        "id": "1X_1_ORgA4eT"
      },
      "source": [
        "Fungsi untuk mengubah/konversi struktur data:                                                \n",
        "a. `list()` : untuk mengubah menjadi list                                                 \n",
        "b. `tuple()` : untuk mengubah menjadi tuple                                              \n",
        "c. `set()` : untuk mengubah menjadi set                                            \n",
        "d. `dict()` : untuk mengubah menjadi dictionary"
      ]
    },
    {
      "cell_type": "markdown",
      "metadata": {
        "id": "fEHNDZp7BEyx"
      },
      "source": [
        "### Mengonversi tipe data list:"
      ]
    },
    {
      "cell_type": "code",
      "metadata": {
        "id": "W5-rmYccCTE6"
      },
      "source": [
        "# Membuat 2 list\n",
        "L1 = [1, 2, 3, 4]\n",
        "L2 = [5, 6, 7, 8]"
      ],
      "execution_count": 1,
      "outputs": []
    },
    {
      "cell_type": "code",
      "metadata": {
        "colab": {
          "base_uri": "https://localhost:8080/"
        },
        "id": "GkMHPUWvCoMZ",
        "outputId": "2b2208fa-7f21-43a6-a3a9-9cd5321914e4"
      },
      "source": [
        "# Mengonversi struktur data list\n",
        "k_tuple = tuple(L1)\n",
        "k_set = set(L1)\n",
        "k_dict = dict(zip(L1,L2))\n",
        "# Melihat data yang telah dikonversi\n",
        "print(k_tuple)\n",
        "print(k_set)\n",
        "print(k_dict)"
      ],
      "execution_count": 7,
      "outputs": [
        {
          "output_type": "stream",
          "name": "stdout",
          "text": [
            "(1, 2, 3, 4)\n",
            "{1, 2, 3, 4}\n",
            "{1: 5, 2: 6, 3: 7, 4: 8}\n"
          ]
        }
      ]
    },
    {
      "cell_type": "markdown",
      "metadata": {
        "id": "Fw0Rx2f2Dan3"
      },
      "source": [
        "### Mengonversi tipe data tuple:"
      ]
    },
    {
      "cell_type": "code",
      "metadata": {
        "id": "zNJ-apNcDZ4W"
      },
      "source": [
        "# Membuat dua tuple\n",
        "T1 = (1, 2, 3, 4)\n",
        "T2 = (5, 6, 7, 8)"
      ],
      "execution_count": 8,
      "outputs": []
    },
    {
      "cell_type": "code",
      "metadata": {
        "colab": {
          "base_uri": "https://localhost:8080/"
        },
        "id": "hhnuS2_eDoa4",
        "outputId": "e76cbe9f-8603-42b5-c3ab-0435306021f4"
      },
      "source": [
        "# Mengonversi struktur data tuple\n",
        "k_list = list(T1)\n",
        "k_set = set(T2)\n",
        "k_dict = dict(zip(T1,T2))\n",
        "# Melihat data yang telah dikonversi\n",
        "print(k_list)\n",
        "print(k_set)\n",
        "print(k_dict)"
      ],
      "execution_count": 9,
      "outputs": [
        {
          "output_type": "stream",
          "name": "stdout",
          "text": [
            "[1, 2, 3, 4]\n",
            "{8, 5, 6, 7}\n",
            "{1: 5, 2: 6, 3: 7, 4: 8}\n"
          ]
        }
      ]
    },
    {
      "cell_type": "markdown",
      "metadata": {
        "id": "zotRqobcECxE"
      },
      "source": [
        "### Mengonversi tipe data set:"
      ]
    },
    {
      "cell_type": "code",
      "metadata": {
        "id": "Z4WlO4vjELQr"
      },
      "source": [
        "# Membuat dua data set\n",
        "S1 = {1, 2, 3, 4}\n",
        "S2 = {5, 6, 7, 8}"
      ],
      "execution_count": 10,
      "outputs": []
    },
    {
      "cell_type": "code",
      "metadata": {
        "colab": {
          "base_uri": "https://localhost:8080/"
        },
        "id": "zfIQTYFhEVaM",
        "outputId": "fcc08eb9-95e6-4e50-815a-64933d2bcef1"
      },
      "source": [
        "# Mengonversi struktur data set\n",
        "k_list = list(S1)\n",
        "k_tuple = tuple(S2)\n",
        "k_dict = dict(zip(S1, S2))\n",
        "print(k_list)\n",
        "print(k_tuple)\n",
        "print(k_dict) "
      ],
      "execution_count": 11,
      "outputs": [
        {
          "output_type": "stream",
          "name": "stdout",
          "text": [
            "[1, 2, 3, 4]\n",
            "(8, 5, 6, 7)\n",
            "{1: 8, 2: 5, 3: 6, 4: 7}\n"
          ]
        }
      ]
    },
    {
      "cell_type": "markdown",
      "metadata": {
        "id": "M1SouserEs6F"
      },
      "source": [
        "### Mengonversi tipe data list:"
      ]
    },
    {
      "cell_type": "code",
      "metadata": {
        "id": "GJJNew6wEwOt"
      },
      "source": [
        "# Membuat dictionary\n",
        "D = {\n",
        "    \"nama\": \"Andi\",\n",
        "    \"alamat\": \"Yogyakarta\",\n",
        "    \"umur\": 20\n",
        "}"
      ],
      "execution_count": 13,
      "outputs": []
    },
    {
      "cell_type": "code",
      "metadata": {
        "colab": {
          "base_uri": "https://localhost:8080/"
        },
        "id": "lvENiVQCFIxm",
        "outputId": "8a34e608-3653-44dd-8372-13b8d4d37cf4"
      },
      "source": [
        "# Mengonversi struktur data dictionary dari key dan value-nya\n",
        "k_list = list(D.keys())\n",
        "k_tuple = tuple(D.values())\n",
        "k_set = set(D.keys())\n",
        "# Melihat data yang telah dikonversi\n",
        "print(k_list)\n",
        "print(k_tuple)\n",
        "print(k_set)"
      ],
      "execution_count": 14,
      "outputs": [
        {
          "output_type": "stream",
          "name": "stdout",
          "text": [
            "['nama', 'alamat', 'umur']\n",
            "('Andi', 'Yogyakarta', 20)\n",
            "{'umur', 'nama', 'alamat'}\n"
          ]
        }
      ]
    },
    {
      "cell_type": "markdown",
      "metadata": {
        "id": "d3VA34W9Fv8k"
      },
      "source": [
        "### Latihan"
      ]
    },
    {
      "cell_type": "code",
      "metadata": {
        "colab": {
          "base_uri": "https://localhost:8080/"
        },
        "id": "XFbackJ2Fxhv",
        "outputId": "547292aa-ea42-490e-dd21-da1d46c679ac"
      },
      "source": [
        "# Lakukan konversi struktur data yang kalian buat pada notebook-notebook\n",
        "# sebelumnya menjadi list, tuple, set,  dan dictionary (masing-masing satu)\n",
        "\n",
        "# Konversi struktur data tuple menjadi list\n",
        "Q = (2.8, False, \"hi\")\n",
        "Q_list = list(Q)\n",
        "print(Q_list)\n",
        "\n",
        "#Konversi struktur data set menjadi tuple\n",
        "P1 = {\"hari\", \"ini\", 10, \"Oktober\", True}\n",
        "P1_tuple = tuple(P1)\n",
        "print(P1_tuple)\n",
        "\n",
        "#Konversi struktur dictionary menjadi set\n",
        "Dictionary = {\"aku\":\"saya\", 1+1:2}\n",
        "Dictionary_set = set(Dictionary.keys())\n",
        "print(Dictionary_set)\n",
        "\n",
        "#Konversi stuktur data tuple menjadi dictionary\n",
        "Q = (2.8, False, \"hi\")\n",
        "R = (2.9, True, \"Hola\")\n",
        "QR_dict = dict(zip(Q, R))\n",
        "print(QR_dict)"
      ],
      "execution_count": 16,
      "outputs": [
        {
          "output_type": "stream",
          "name": "stdout",
          "text": [
            "[2.8, False, 'hi']\n",
            "(True, 10, 'hari', 'Oktober', 'ini')\n",
            "{'aku', 2}\n",
            "{2.8: 2.9, False: True, 'hi': 'Hola'}\n"
          ]
        }
      ]
    }
  ]
}