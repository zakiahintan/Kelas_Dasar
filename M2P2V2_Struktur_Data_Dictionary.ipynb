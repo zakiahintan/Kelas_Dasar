{
  "nbformat": 4,
  "nbformat_minor": 0,
  "metadata": {
    "colab": {
      "name": "Untitled6.ipynb",
      "provenance": [],
      "collapsed_sections": [],
      "authorship_tag": "ABX9TyN3uc0PE0+gQUWVF3q43ZDX",
      "include_colab_link": true
    },
    "kernelspec": {
      "name": "python3",
      "display_name": "Python 3"
    },
    "language_info": {
      "name": "python"
    }
  },
  "cells": [
    {
      "cell_type": "markdown",
      "metadata": {
        "id": "view-in-github",
        "colab_type": "text"
      },
      "source": [
        "<a href=\"https://colab.research.google.com/github/zakiahintan/Kelas_Dasar/blob/main/M2P2V2_Struktur_Data_Dictionary.ipynb\" target=\"_parent\"><img src=\"https://colab.research.google.com/assets/colab-badge.svg\" alt=\"Open In Colab\"/></a>"
      ]
    },
    {
      "cell_type": "markdown",
      "metadata": {
        "id": "SkBJyBVM8X7g"
      },
      "source": [
        "# Dictionary"
      ]
    },
    {
      "cell_type": "markdown",
      "metadata": {
        "id": "6Nax0QPR8a8s"
      },
      "source": [
        "Dictionary pada Python adalah kumpulan pasangan kunci-nilai (pair of key-value) yang bersifat tidak berurutan. Dictionary dapat digunakan untuk menyimpan data kecil hingga besar. Untuk mengakses datanya, kita harus mengetahuo kuncinya (key). Pada Python, dictionary didefinisikan dengan kurawal dan tambahan definisi berikut :\n",
        "*   Setiap elemen pair key-value dipisahkan dengan koma (,).\n",
        "*   Key dan value dipisahkan dengan titik dua (:).\n",
        "*   Key dan value dapat berupa tipe variabel/objek apapun\n",
        "\n",
        "\n",
        "\n"
      ]
    },
    {
      "cell_type": "code",
      "metadata": {
        "colab": {
          "base_uri": "https://localhost:8080/"
        },
        "id": "dK3FdoMe9Nen",
        "outputId": "8dbecaa5-bf27-4c91-d8c2-f1aaae8a02e3"
      },
      "source": [
        "L1 = [1, \"dua\", True, 2+3j, 2+3j]\n",
        "print(L1)"
      ],
      "execution_count": 8,
      "outputs": [
        {
          "output_type": "stream",
          "name": "stdout",
          "text": [
            "[1, 'dua', True, (2+3j), (2+3j)]\n"
          ]
        }
      ]
    },
    {
      "cell_type": "code",
      "metadata": {
        "colab": {
          "base_uri": "https://localhost:8080/"
        },
        "id": "lyl-rxgk-N8F",
        "outputId": "611531d4-8412-4baf-db94-2d534494ac02"
      },
      "source": [
        "#Contoh Dictionary\n",
        "D1 = {1:\"value\", \"key\":2}\n",
        "print(D1)"
      ],
      "execution_count": 9,
      "outputs": [
        {
          "output_type": "stream",
          "name": "stdout",
          "text": [
            "{1: 'value', 'key': 2}\n"
          ]
        }
      ]
    },
    {
      "cell_type": "markdown",
      "metadata": {
        "id": "_WO70KhI-hfz"
      },
      "source": [
        "### Latihan 1"
      ]
    },
    {
      "cell_type": "code",
      "metadata": {
        "id": "6YhWMpn_-g5A"
      },
      "source": [
        "# Buatlah Struktur data dictionary kalian sendiri\n",
        "Dictionary = {\"aku\":\"saya\", 1+1:2}"
      ],
      "execution_count": 10,
      "outputs": []
    },
    {
      "cell_type": "code",
      "metadata": {
        "colab": {
          "base_uri": "https://localhost:8080/"
        },
        "id": "ku3ZeFJm_CI6",
        "outputId": "b9452596-39e2-45ae-c9dd-5af1200725eb"
      },
      "source": [
        "L1[0]"
      ],
      "execution_count": 11,
      "outputs": [
        {
          "output_type": "execute_result",
          "data": {
            "text/plain": [
              "1"
            ]
          },
          "metadata": {},
          "execution_count": 11
        }
      ]
    },
    {
      "cell_type": "code",
      "metadata": {
        "colab": {
          "base_uri": "https://localhost:8080/"
        },
        "id": "QTWrdG3Q_FS0",
        "outputId": "eb2d03fe-33ac-4175-979c-ddad3230acab"
      },
      "source": [
        "D1[\"key\"]"
      ],
      "execution_count": 12,
      "outputs": [
        {
          "output_type": "execute_result",
          "data": {
            "text/plain": [
              "2"
            ]
          },
          "metadata": {},
          "execution_count": 12
        }
      ]
    },
    {
      "cell_type": "code",
      "metadata": {
        "colab": {
          "base_uri": "https://localhost:8080/"
        },
        "id": "97jXXMNt_Ja-",
        "outputId": "dbc69115-c216-473b-f794-a850e1802ad0"
      },
      "source": [
        "#Memanggil Elemen Berdasarkan Key\n",
        "print(\"D1[`key`]\", D1[\"key\"]);"
      ],
      "execution_count": 13,
      "outputs": [
        {
          "output_type": "stream",
          "name": "stdout",
          "text": [
            "D1[`key`] 2\n"
          ]
        }
      ]
    },
    {
      "cell_type": "markdown",
      "metadata": {
        "id": "Uzv66OhC_iJp"
      },
      "source": [
        "Dictionary bukan termasuk dalam implementasi urutan (sequences) sehingga tidak bisa dipanggil dengan urutan indeks, contohnya berikut dicoba dengan indeks 2 tetapi menghasilkan error (KeyError) karena tidak ada kunci (key) 2 "
      ]
    },
    {
      "cell_type": "code",
      "metadata": {
        "colab": {
          "base_uri": "https://localhost:8080/",
          "height": 178
        },
        "id": "Sm8KH_kU_hYX",
        "outputId": "c7ed8dc6-bbb3-4de7-9d9c-bc3fd5a7541e"
      },
      "source": [
        "#Nyobain Error\n",
        "print(\"D1[2] = \", D1[2]);"
      ],
      "execution_count": 14,
      "outputs": [
        {
          "output_type": "error",
          "ename": "KeyError",
          "evalue": "ignored",
          "traceback": [
            "\u001b[0;31m---------------------------------------------------------------------------\u001b[0m",
            "\u001b[0;31mKeyError\u001b[0m                                  Traceback (most recent call last)",
            "\u001b[0;32m<ipython-input-14-c9c144d47f5b>\u001b[0m in \u001b[0;36m<module>\u001b[0;34m()\u001b[0m\n\u001b[1;32m      1\u001b[0m \u001b[0;31m#Nyobain Error\u001b[0m\u001b[0;34m\u001b[0m\u001b[0;34m\u001b[0m\u001b[0;34m\u001b[0m\u001b[0m\n\u001b[0;32m----> 2\u001b[0;31m \u001b[0mprint\u001b[0m\u001b[0;34m(\u001b[0m\u001b[0;34m\"D1[2] = \"\u001b[0m\u001b[0;34m,\u001b[0m \u001b[0mD1\u001b[0m\u001b[0;34m[\u001b[0m\u001b[0;36m2\u001b[0m\u001b[0;34m]\u001b[0m\u001b[0;34m)\u001b[0m\u001b[0;34m;\u001b[0m\u001b[0;34m\u001b[0m\u001b[0;34m\u001b[0m\u001b[0m\n\u001b[0m",
            "\u001b[0;31mKeyError\u001b[0m: 2"
          ]
        }
      ]
    },
    {
      "cell_type": "markdown",
      "metadata": {
        "id": "u6HZ_DWhAEqZ"
      },
      "source": [
        "### Latihan 2"
      ]
    },
    {
      "cell_type": "code",
      "metadata": {
        "colab": {
          "base_uri": "https://localhost:8080/"
        },
        "id": "Gaee2yFMAGPZ",
        "outputId": "4429d9f0-f2ed-4832-b0f5-01970158998b"
      },
      "source": [
        "#Panggil salahsatu key dan value pada dictionary yang telah kalian buat\n",
        "print(Dictionary[1+1])"
      ],
      "execution_count": 15,
      "outputs": [
        {
          "output_type": "stream",
          "name": "stdout",
          "text": [
            "2\n"
          ]
        }
      ]
    }
  ]
}