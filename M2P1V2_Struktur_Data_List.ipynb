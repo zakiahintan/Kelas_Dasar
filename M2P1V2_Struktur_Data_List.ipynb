{
  "nbformat": 4,
  "nbformat_minor": 0,
  "metadata": {
    "colab": {
      "name": "Untitled3.ipynb",
      "provenance": [],
      "collapsed_sections": [],
      "authorship_tag": "ABX9TyMhrixIIFj1WLfYUjvkY4Gb",
      "include_colab_link": true
    },
    "kernelspec": {
      "name": "python3",
      "display_name": "Python 3"
    },
    "language_info": {
      "name": "python"
    }
  },
  "cells": [
    {
      "cell_type": "markdown",
      "metadata": {
        "id": "view-in-github",
        "colab_type": "text"
      },
      "source": [
        "<a href=\"https://colab.research.google.com/github/zakiahintan/Kelas_Dasar/blob/main/M2P1V2_Struktur_Data_List.ipynb\" target=\"_parent\"><img src=\"https://colab.research.google.com/assets/colab-badge.svg\" alt=\"Open In Colab\"/></a>"
      ]
    },
    {
      "cell_type": "markdown",
      "metadata": {
        "id": "T4F7XthAHLuO"
      },
      "source": [
        "# List"
      ]
    },
    {
      "cell_type": "markdown",
      "metadata": {
        "id": "Xx1bbZj5HNbM"
      },
      "source": [
        "List adalah jenis kumpulan data terurut (ordered sequence) dan merupakan salah satu variabel yang sering digunakan pada Python. Serupa tapi tak sama dengan array pada bahasa pemrograman lainnya. Bedanya, elemen list pada python tidak harus memiliki tipe data yang sama. Mendeklarasikan list cukup mudah dengan kurung siku dan elemen yang dipisahkan dengan koma. Setiap data di dalamnya dapat diakses dengan indeks yang dimulai dari 0."
      ]
    },
    {
      "cell_type": "code",
      "metadata": {
        "colab": {
          "base_uri": "https://localhost:8080/"
        },
        "id": "wobsuCa-HvmK",
        "outputId": "6f36a777-f713-4c1f-aaba-89da019c2ce1"
      },
      "source": [
        "#Contoh List\n",
        "L1 = [1, 4, 2, 13]\n",
        "print(type(L1))"
      ],
      "execution_count": null,
      "outputs": [
        {
          "output_type": "stream",
          "name": "stdout",
          "text": [
            "<class 'list'>\n"
          ]
        }
      ]
    },
    {
      "cell_type": "code",
      "metadata": {
        "colab": {
          "base_uri": "https://localhost:8080/"
        },
        "id": "no676CoXIUNi",
        "outputId": "a32e77a9-e81d-4a76-ac9e-8e4501e1174b"
      },
      "source": [
        "L2 = [\"a\",\"Python\",3]\n",
        "L2"
      ],
      "execution_count": null,
      "outputs": [
        {
          "output_type": "execute_result",
          "data": {
            "text/plain": [
              "['a', 'Python', 3]"
            ]
          },
          "metadata": {},
          "execution_count": 2
        }
      ]
    },
    {
      "cell_type": "code",
      "metadata": {
        "colab": {
          "base_uri": "https://localhost:8080/"
        },
        "id": "Lw5QG31pIg5o",
        "outputId": "0bc3cc01-2487-4e88-be6d-5c804b39b03f"
      },
      "source": [
        "print(L1)\n",
        "print(L2)"
      ],
      "execution_count": null,
      "outputs": [
        {
          "output_type": "stream",
          "name": "stdout",
          "text": [
            "[1, 4, 2, 13]\n",
            "['a', 'Python', 3]\n"
          ]
        }
      ]
    },
    {
      "cell_type": "markdown",
      "metadata": {
        "id": "hDZpZO3sIk5f"
      },
      "source": [
        "**Latihan 1**"
      ]
    },
    {
      "cell_type": "code",
      "metadata": {
        "id": "COprDgj0InY1"
      },
      "source": [
        "#Buatlah List kalian sendiri\n",
        "P = [\"hallo\", 8, 0.8]"
      ],
      "execution_count": null,
      "outputs": []
    },
    {
      "cell_type": "markdown",
      "metadata": {
        "id": "tlBxD-OXJPNk"
      },
      "source": [
        "Indeks di python (List dan Tuple) mulai dari 0"
      ]
    },
    {
      "cell_type": "code",
      "metadata": {
        "colab": {
          "base_uri": "https://localhost:8080/"
        },
        "id": "KAMFWntGJVYl",
        "outputId": "94bb1da0-e59b-4a1b-d4d2-06e56275af52"
      },
      "source": [
        "#Sifat-Sifat List\n",
        "\n",
        "#Terurut/Ordered\n",
        "print(\"memanggil list L1 dengan indeks urutan:\", L1[0:3])\n",
        "\n",
        "#Bisa Diganti/Mutable\n",
        "L1[1] = 2\n",
        "print(\"List L1 setelah diganti elemennya\", L1)\n",
        "\n",
        "L1 = [1,\"dua\",True, 2+3j]\n",
        "\n",
        "#Dapat Diindeks/Slicing\n",
        "print(\"Slicing List L1:\", L1[3])\n",
        "\n",
        "#Dapat Diijinnkan Duplikasi\n",
        "L1 = [1, \"dua\", True, 2+3j, 2+3j]\n",
        "print(\"Duplikasi pada list L1:\", L1)"
      ],
      "execution_count": null,
      "outputs": [
        {
          "output_type": "stream",
          "name": "stdout",
          "text": [
            "memanggil list L1 dengan indeks urutan: [1, 4, 2]\n",
            "List L1 setelah diganti elemennya [1, 2, 2, 13]\n",
            "Slicing List L1: (2+3j)\n",
            "Duplikasi pada list L1: [1, 'dua', True, (2+3j), (2+3j)]\n"
          ]
        }
      ]
    },
    {
      "cell_type": "markdown",
      "metadata": {
        "id": "JhuE2Kg6KvBY"
      },
      "source": [
        "**Latihan 2**"
      ]
    },
    {
      "cell_type": "code",
      "metadata": {
        "colab": {
          "base_uri": "https://localhost:8080/"
        },
        "id": "7GlJsLxkKxOQ",
        "outputId": "9d20b61c-c571-41f0-c238-9f94a9c18781"
      },
      "source": [
        "#Ganti elemen yang ada pada list yang kalian buat\n",
        "P[1] = \"semua\"\n",
        "print(\"List P setelah diganti elemennya:\", P)"
      ],
      "execution_count": null,
      "outputs": [
        {
          "output_type": "stream",
          "name": "stdout",
          "text": [
            "List P setelah diganti elemennya: ['hallo', 'semua', 0.8]\n"
          ]
        }
      ]
    }
  ]
}