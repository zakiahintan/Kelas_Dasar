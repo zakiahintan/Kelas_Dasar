{
  "nbformat": 4,
  "nbformat_minor": 0,
  "metadata": {
    "colab": {
      "name": "Untitled9.ipynb",
      "provenance": [],
      "collapsed_sections": [],
      "authorship_tag": "ABX9TyMqhJ04JrgrJA0cRvPZpkPF",
      "include_colab_link": true
    },
    "kernelspec": {
      "name": "python3",
      "display_name": "Python 3"
    },
    "language_info": {
      "name": "python"
    }
  },
  "cells": [
    {
      "cell_type": "markdown",
      "metadata": {
        "id": "view-in-github",
        "colab_type": "text"
      },
      "source": [
        "<a href=\"https://colab.research.google.com/github/zakiahintan/Kelas_Dasar/blob/main/M3P1V1_If_Elif_Else.ipynb\" target=\"_parent\"><img src=\"https://colab.research.google.com/assets/colab-badge.svg\" alt=\"Open In Colab\"/></a>"
      ]
    },
    {
      "cell_type": "markdown",
      "metadata": {
        "id": "-rECVk6DmO0f"
      },
      "source": [
        "# Percabangan / Struktur Pemilihan"
      ]
    },
    {
      "cell_type": "markdown",
      "metadata": {
        "id": "jAnkFF0amTv0"
      },
      "source": [
        "Pada bagian ini, kamu akan membuat keputusan pada bahasa pemrograman python menggunakan struktur percabangan atau juga sering disebut IF ELSE Statement. Pengambilan keputusan dibutuhkan ketika kamu akan mengeksekusi sutu kode jika sebuah kondisi tertentu dipenuhi.\n",
        "\n",
        "Statement `if .. elif ... else` digunakan pada bahasa pemrograman python untuk pengambilan keputusan."
      ]
    },
    {
      "cell_type": "markdown",
      "metadata": {
        "id": "jzXUK7Usm8G9"
      },
      "source": [
        "### IF Statements"
      ]
    },
    {
      "cell_type": "markdown",
      "metadata": {
        "id": "2NrYp4HPm_FJ"
      },
      "source": [
        "**Python IF Statement Syntax**"
      ]
    },
    {
      "cell_type": "code",
      "metadata": {
        "id": "pNqlqhKInTci"
      },
      "source": [
        "if test expression:\n",
        "  statement(s)"
      ],
      "execution_count": null,
      "outputs": []
    },
    {
      "cell_type": "markdown",
      "metadata": {
        "id": "bjCYp-_OnFf9"
      },
      "source": [
        "**Python IF Statement Flowchart**\n",
        "\n",
        "![a.jpg](data:image/jpeg;base64,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)"
      ]
    },
    {
      "cell_type": "markdown",
      "metadata": {
        "id": "6qnASvaHny5R"
      },
      "source": [
        "**Example : Python IF Statement**"
      ]
    },
    {
      "cell_type": "code",
      "metadata": {
        "colab": {
          "base_uri": "https://localhost:8080/"
        },
        "id": "oRYKuzmpoQ5D",
        "outputId": "11a4f114-2d69-49b6-c432-c877268a880f"
      },
      "source": [
        "# Jika angka adalah bilangan positif maka print \"adalah bilangan positif\"\n",
        "angka = 3\n",
        "if angka > 0:\n",
        "    print(angka, \"adalah bilangan positif\")\n",
        "print(\"pernyataan ini selalu ditampilkan\")\n",
        "\n",
        "angka = -1\n",
        "if angka > 0:\n",
        "    print(angka, \"adalah bilangan positif\")\n",
        "print(\"pernyataan ini juga selalu ditampilkan\")"
      ],
      "execution_count": null,
      "outputs": [
        {
          "output_type": "stream",
          "name": "stdout",
          "text": [
            "3 adalah bilangan positif\n",
            "pernyataan ini selalu ditampilkan\n",
            "pernyataan ini juga selalu ditampilkan\n"
          ]
        }
      ]
    },
    {
      "cell_type": "markdown",
      "metadata": {
        "id": "oB8rirkJo1OS"
      },
      "source": [
        "### IF ELSE Statements"
      ]
    },
    {
      "cell_type": "markdown",
      "metadata": {
        "id": "ymgPxnyho3sM"
      },
      "source": [
        "**Python IF ELSE Statement Syntax**"
      ]
    },
    {
      "cell_type": "code",
      "metadata": {
        "id": "pzYp4auRo_fS"
      },
      "source": [
        "if test expression:\n",
        "  Body of if\n",
        "else :\n",
        "  Body of else"
      ],
      "execution_count": null,
      "outputs": []
    },
    {
      "cell_type": "markdown",
      "metadata": {
        "id": "U6osU_LApGvT"
      },
      "source": [
        "**Python IF ELSE Statement Flowchart**\n",
        "\n",
        "\n",
        "![b.jfif](data:image/jpeg;base64,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)"
      ]
    },
    {
      "cell_type": "markdown",
      "metadata": {
        "id": "Xm4Jlkz9pm0F"
      },
      "source": [
        "**Example : Python IF ELSE Statement**"
      ]
    },
    {
      "cell_type": "code",
      "metadata": {
        "colab": {
          "base_uri": "https://localhost:8080/"
        },
        "id": "GdiN8zFCp6aD",
        "outputId": "e1d51dd7-c8f1-439a-bc59-223565cb9567"
      },
      "source": [
        "# Program disusun untuk mengecek apakah angka tersebut kurang dari nol atau tidak\n",
        "# dan menampilkan tulisan yang sesuai\n",
        "angka = 3\n",
        "if angka >= 0:\n",
        "    print(\"bilangan lebih dari atau samadengan 0\")\n",
        "else:\n",
        "    print(\"bilangan kurang dari 0\")"
      ],
      "execution_count": null,
      "outputs": [
        {
          "output_type": "stream",
          "name": "stdout",
          "text": [
            "bilangan lebih dari atau samadengan 0\n"
          ]
        }
      ]
    },
    {
      "cell_type": "code",
      "metadata": {
        "colab": {
          "base_uri": "https://localhost:8080/"
        },
        "id": "qtcSZc3WqWRw",
        "outputId": "9935df51-281d-4d5f-c32f-e754be83773c"
      },
      "source": [
        "# Program disusun untuk mengecek apakah dua buah angka sama atau tidak \n",
        "# dan menampilkan tulisan yang sesuai.\n",
        "a = 5\n",
        "b = 5\n",
        "if a==b:\n",
        "    print(\"a dan b bernilai sama\")\n",
        "else :\n",
        "    print(\"a dan b bernilai berbeda\")\n",
        "    print(\"Belajar if else\")"
      ],
      "execution_count": null,
      "outputs": [
        {
          "output_type": "stream",
          "name": "stdout",
          "text": [
            "a dan b bernilai sama\n"
          ]
        }
      ]
    },
    {
      "cell_type": "code",
      "metadata": {
        "id": "xJrCWDXhLrvX",
        "colab": {
          "base_uri": "https://localhost:8080/"
        },
        "outputId": "d6f0fe4b-eda9-489f-8c9f-4d2319f5493e"
      },
      "source": [
        "# Program disusun untuk mengecek apakah perbandingan dua buah angka\n",
        "# dan menampilkan tulisan yang sesuai\n",
        "\n",
        "# membaca dua angka\n",
        "bil1 = int(input(\"Masukkan bilangan pertama: \"))\n",
        "bil2 = int(input(\"Masukkan bilangan kedua: \"))\n",
        "\n",
        "# memilih bilangan yang lebih besar\n",
        "if bil1 > bil2:\n",
        "    bil_lebih_besar = bil1\n",
        "else:\n",
        "    bil_lebih_besar = bil2\n",
        "\n",
        "# menampilkan hasil\n",
        "print(\"bilangan yang lebih besar adalah:\", bil_lebih_besar)"
      ],
      "execution_count": 3,
      "outputs": [
        {
          "output_type": "stream",
          "name": "stdout",
          "text": [
            "Masukkan bilangan pertama: 3\n",
            "Masukkan bilangan kedua: 5\n",
            "bilangan yang lebih besar adalah: 5\n"
          ]
        }
      ]
    },
    {
      "cell_type": "markdown",
      "metadata": {
        "id": "1LB04g1hHoWF"
      },
      "source": [
        "### IF ELIF Statements"
      ]
    },
    {
      "cell_type": "markdown",
      "metadata": {
        "id": "SR_RPcsDHscr"
      },
      "source": [
        "**Python IF ELIF Statement Syntax**"
      ]
    },
    {
      "cell_type": "code",
      "metadata": {
        "id": "KNVv0f3vH02C"
      },
      "source": [
        "if test expression:\n",
        "  Body of if\n",
        "elif test expression:\n",
        "  Body of elif\n",
        "else :\n",
        "  Body of else"
      ],
      "execution_count": null,
      "outputs": []
    },
    {
      "cell_type": "markdown",
      "metadata": {
        "id": "F8wfid_qIJeV"
      },
      "source": [
        "**Python IF ELIF Statement Flow Chart**\n",
        "\n",
        "![c.jpg](data:image/jpeg;base64,/9j/4AAQSkZJRgABAQAAAQABAAD/2wBDAAUDBAQEAwUEBAQFBQUGBwwIBwcHBw8LCwkMEQ8SEhEPERETFhwXExQaFRERGCEYGh0dHx8fExciJCIeJBweHx7/2wBDAQUFBQcGBw4ICA4eFBEUHh4eHh4eHh4eHh4eHh4eHh4eHh4eHh4eHh4eHh4eHh4eHh4eHh4eHh4eHh4eHh4eHh7/wAARCAGXAZwDASIAAhEBAxEB/8QAHAABAAIDAQEBAAAAAAAAAAAAAAQFAwYHAgEI/8QATBAAAQQCAAMDBwUMCQMEAwEAAQACAwQFEQYSIQcxQRMUFVFWYdMiNnWTsyMyNUJVcXJ0gZGx0hYzUlRilKSy0TShtCSCksEIU2Nk/8QAFgEBAQEAAAAAAAAAAAAAAAAAAAEC/8QAGhEBAQADAQEAAAAAAAAAAAAAABEBITFBcf/aAAwDAQACEQMRAD8A/ZaIiAiIgIiICIiAoNa2+TM3KZDQyCKJ7SO8l5fvfu+SNftU5VVH50ZT9XrfxlQWqIiAiIgIiICIiAiIgIiICIiAiIgIiICIiAiIgIiICIiAiIgIiICIiAiIgIiICIiAiIgIiICIiAiIgIiICIiAuf8AD/HGNyHaJdw8NLIx2ZAINvjYGsdD5QuLiHEgdQB0PXvAW+SSMijdJK9rGNBLnOOgAO/ZPgtNw+FqUOO8nxS+J8UF+JjIXubprXdOckd4DiGkEgbO+7Y2St2RERRERAREQEREBERAREQEREBERAREQEREBERAREQEREBERAREQEREBERAREQEREBERAREQEREBERAREQFGuWoqrNyFxc88scbRtzz6gPE/wAB1OgCVjtWy2U1qrBNZ1sjfyYwfFx8PcO8+A1sj7UqCKQzTSGaw8adKRrQ9TR4D3D85JPVIlY46stmRs98DTSHRVwdtYR3Fx/Gd/2HgNjZnPa1zS1zQWkaII6L0iEVvkp6HWs181Md8I6uiH+D1gf2e8eHcAplaeKxC2WF4ex3cQf2EfnB6a8FmUGem9krrNJwimdovY77yXX9oeB105h17t7A0hxORRadttgvjLXRzs15SJ/3zd+PvB66I6Hr4ghSkUREQEREBERAREQEREBERAREQEREBERAREQEREBERAREQEREBERAREQEREBERAREQEREBEWC1Yirwuknk5GjQ695J6AADqST0AHUlBn7lWusTXttou5K4++s63v3Rg9D+keg8N9dPIzZDrbY6Kqe6v4yD1v93+Eft3vQsQABoAADu9yJ1hq14q0IihZyjeyT1JJ7ySepJ8Seqzoq7P5rHYLGuyGUndBWa4NLxG952T0Gmgn/ALIqxRazwvxzwtxRdfUwWU89mY1znBteVgAaQD1c0DYJAI3tbMgIo1i5Vr2IK09qGKawSIY3yAOkIGyGg9TodTruCkoItupHZ5SS6OWP+rlZ0cwnv0fUemwdg+IWKG3JFK2teDWyOOo5GjTJT6hvud/hJ/MTo6nrHPDFPE6KZgexw0WuGwUGRFW80+P6SF9ioO6Q7L4h/i8XAevvHjvqRPjeySNr43BzXAEOB2CD3HaJXtERFEREBERAREQEREBERAREQEREBERAREQEREBERAREQEREBERAREQEREBERARFAmtSTSurUAHPadSTOG2RH1f4ne4Hp4kdNhkuW2QlsTWumsP+8ib3n3k9waPEnp4dSQD5r1HeWFm69stgb5QPvIwfBoPjrvJ6nr3DoMlSpHVDuXmfI87kkeduefWT/ADQHcAApKJ9EREUREQcF4XdxLj/AP8AGzNP4djsQ5Zl+26PkY4StjNsl7mAAnm8mXEEA9dEArE2K9PwvmJMbx/FSxU8lIRh1u7M1jwXeUYZngSMErQNlp2HDfQuO+/og/OuT8yyEfZxxJl6OexOPhyF2G24ZC5IIhyS8j2vJDwx7z8kkAlhDe7ov0UiICIiAq99aaq501AbaSXSVidNcfEsJ6NPjruJ79EkqwREiNVtRWWc0TiS13K5pGnMPqI7wVJUO1U8q/y8L/IWWjTZANgj1OH4w93eOuiD1XyrcL5fNrLPIWe/k3trx62HxHr8R4gbGxU1cg7PeOMvxDxtkcfe4y4aqirmrlKPC+bAXJ4oXODXBxl31A2TyHo0/s6+tQ4J4Kj4cq5mN1qOzPkcpbvx2GwBj4BO4nkB2Ttuz1BG99wRXgcd0J8hLhXU8pjMlJSmtUxeq+TE7Yx8ot2TojYJDgDo71pUnBHaVHa4d4br5Ctkcrn8hiIslZjo1mnkY48vORsAAnYAGydHp0Kh8Kdk13FZHDX7uboTz42japPkgxxjkt+WAAlleZCXPGtnewd9Ndd/bfZLYnwHDuG9J4sehakEEWSGPe29EY37eYpBKOUPAA5SCB1J5t6AbRZ7QsDBmzjpGZARMvtxsl4Vj5qy04DURf4Ekgb1oEgEgnS3BczxXZdBjeKrt+H0Haxt7JnJyx3cUJbUUrjzObHLzgAc4BBIJbogb6EdMQEREBERAREQEREBERAREQEREBERAREQEREBERAREQEREBERBV5CSR91lSaR1Wq8DUjehlcTrk5vxPD3nfQjRVhDFHDC2KKNrGMGmtaNAD1AJNFHNE6KVjXscNOa4bBHqUHdjHffeUs0x49XSRD3+Lx7+8eO+8E4skXiKRksbZY3h7HAFrgdgg9xC9oouEcEQ2sj2vcUS2MPxBk2UuIiyG5FlzFVptDWO5XwmUc4BJOgwg7/AHd3WnDs44WZxHNxBFBkYL89sXJjDk7McckoIILo2vDCOgBBGiBojSDX+Ge0XNZbtAfwNJj8fHk6Fqf0nOHnyJrMDCx0IJ26R3lWAt68nUnwBjYbtG4rmx3DOcyWExkeIzWTONe2CZ7rEZL5GMlA0RyksG29SAdkgb1uGP4B4Wx9qlbp450VqjantwzixJ5QyzHcpc4nbw7xDiR0HToFr/Zx2YYvD47D3MxTL8xj3yyMaLT3145XSPIlbFvkEha4AuA3799UFXN2pZ6pwTmOLbmFomnTvTY2rFHJIZJ5xZELHEAHUetk624kEAdRvNa7ROKquFyj38Ovsz0bdZguMxt1kDoJQS+UROZ5RxjIIIaTvYJIBOt3Zwbw2OHLXDxxjJMZasPszQPe525XyeVLwSdg8/UaI0QNa0sdfg/GV8WaEd/O68o2QTvy1h0wIZyAB5eSBokaHQk7IJ6oNHyvajdq1cJdiuYH0TfrySSZ0w2X0DKJSxsW2j7kSB1Lz0PQA6KxW+Mzw5Z4vmxGErSZKfiapi6/lLMgjnnmij5ZJCS7kADjsMAB1vWyStxl7OOFJMRBh/NbjcXEzkdSZfmEM48oZD5Vod90Je4kl2ydkHY6KXkOBeF79TL1LWLEkWWsstW/urwXSsa1rHtIO2EBjdFhGte9Bo+b7T+IcDBxHj8risZLmsNJQLXVpH+bzxWpWsB07Tmubs7GyD06rZOCOKs5kOOuIuFM/Rx8M+Lir2IZaUj3MfHMHHldzgHYI1sAA9+gpVfs44TiwtzFSUrFiK9PFYty2Lcsk88kTg6Mvlc4vPKWjQ3rQ1rXRXVPAYupxHe4igrFmSvwxQ2ZfKOPOyPfIOUnQ1s9QATtBbIiICj3K8NiHkmbsD5QO9FpHcQR1BHrC+2rENaAyzP5W9w11JJ7gAOpJ8AOqitgmvEPutMcH4tbf33vkI6H9EdPXvpphMolW9kzzCvT9IQD+rs+UbH5QfmI6/pDQPeAFI8+zH5D/wBWxWgGhodyIYVfn2Y/If8Aq2J59mPyH/q2K0RFVfn2Y/If+rYnn2Y/If8Aq2K0RBV+fZj8h/6tiefZj8h/6titEQVfn2Y/If8Aq2J59mPyH/q2K0RBV+fZj8h/6tiw2ctfqxtltYd0cRkZG5wsMcW8zw0HXjokK6VTxZ+BT+s1/t2ILZERAREQEREBERAREQEREBERAREQEREBERAREQEREFfLVlryOnoa+USZICdNeT3kH8V3jvuPj1OxnqWorTSWFzXNOpGOGnMPqI8P4EdRsHakqHbpiV4nheYbLBpso69PU4fjD3H84IPVOomIoVa2XS+bWmeRs6JAB22QDvLD4+8HqPEa0TNRRRclep4zHz5DIWYqtStGZJppXBrGMA2ST4AKUtc7S+GhxhwJl+GvOvNTfg8m2bl5gxwIcCR4jYG/dtBWy9pfCsmFyl+jfksS4+obTq7qszJXM2Q14YWhxYXAAOAI117uqxdj/EmV4p4DZxDlLdWSxaJlYyKlJCysHMa4R/KJMut/fjQO9DqCquPgriXK52xnuIZ8RXsxYGfEVIKLpHMcZCdyPc5oIHRumgHWz1Ogtq4AwNnh3s/xHDlqaGaxRpMrPkj3yOLRrY2AdfsQc+4i7T8jWxHB1OhlsXLkc+57pcnBjLMtVkTQ880cew5xJZrlLtjqda0uyNBA6kE+J9a5ZgezXLY7GdnNWS/Se7hWWV9ot59TB7HNHJsd/wArZ3pdUQEREBQ7dwQvEMTDNZcNtiB109ZPgPefzDZ6LHLalsSOgoEfJdyyTkbawjvAH4zvDXcPE7GjnqVYqrHBnM5zzt73Hb3n1k+P8AOgAHROIx1ajhMLNp4ms6IB18mMHvDR4e8nqfzaAmoiKIiICIiAiIgIiICIiAqniz8Cn9Zr/bsVsqniz8Cn9Zr/AG7EFsiIgIiICIiAiIgIiICIiAiIgIiICIiAiIgIiICIiAiIgwWq8NmExTsD272PAgjuII6gj1jqojZ5qJDLzzJB+LZ/s+6QDoP0h09eum7JfCAQQQDvvRI+731CKt8jPQO6bXS1vGvvqwethPh/hPT1a1oy6tiKzC2WF4e07HqII6EEd4IPQg9QUKzoiIoiKNbtR1WN5w50jzqOJg2559QH8Seg7yQOqDLNLHDE6WV7WMaNuc46AHrUHVjI9/lK9M+HVsko9/ixvu6E+7uPuKrJPI2xfIc5p3HA3qyM+s/2ne89B4AdSZ6J1jijjiibFEwMY0ANa0aAA8AFkREUREQEREBERAREQEREBERAVTxZ+BT+s1/t2K2VTxZ+BT+s1/t2ILZERAREQEREBERAREQEREBERAREQEREBERAREQEREBERAREQFBs1XeVNqk8RWDrmB+8lA8HD167iOo946GciCJUtsnLonsdDYZ1fE7vA9YPiD4Efm6EECWoturHaa3n5mPYdxyMOnMPrB/iDsHuIIUGOe/ZuzYx0jInQMY+WwwdXtfsDlB3yn5J2TvXTW99CcS7Ft/ljWpsbNYGuYk/IjB8XEePqA6n3DZHqpUbA90r3umsPHy5XDqR6gO4AeAH5zs7JyVa8VaERQsDGjrrvJJ7ySepPiSe9Z0IIiIoiIgIiICIiAiIgIiICIiAiIgKp4s/Ap/Wa/27FbKk4xnghwwE00cZdYgI5nAb1MwnvQXaLxG9kkYexwc0jYcDsEfnXtAREQEREBERAREQEREBERAREQEREBERAREQEREBERAREQEREBVVH50ZT9XrfxlVqqqj86Mp+r1v4yoLVERAREQEREBERAREQEREBERAREQEREBc47ecCctw3VuQNBs1LLWt2dEskIaQP28h9wBK3y3abC8QxsM9h42yJp669ZPgPefzDZ0D4gpky+cXXNmn0QB+JGD4NB/7k9T7hoBEr5gcdFicLTxkOiytC2MEDWyAAT+07P7VPVb5GbH9ajHS1vGv+NGPWwnw/wAJ/ZrWjLrTxWYRLC8Padj8xHQgjvBB6EHqChWdERFEREBERAREQEREBERAREQEREBERAREQEREBERAREQEREBaDxtxXY4RyeXybeH72WrQY+KzbdVkiaa8TTMeYh7hsHld0Gz07uoW/LQu0PHXcvQ44xWOhNi5c4ZjggiDg0ve42w0bJAGyQNkgILThHix2axceRyeHscPw2PJmn59ZhPnIe0uBZyPPh10dH3dFdR5XGSRyyx5Km9kMYllc2dpDGEbDnHfQEdQT0I6rn3E/CWTynDXZxjpMYLDcXfqPykL3s1HEys9j9gnTgC4Agb3vuIVDxlwvxPW4g7QKmC4UfbocSYCGnQlrzwxQwOihkYWPa5wI3zgAAEHp1A2QHX7GXxNY122MnShda15uHztaZd93Js/K3sd2+9T1wPNcAZyfNWm5XE5W9jctgKeOBx/mj31HRREPY8z7LAXHYdHvr1PcF3OjXNWjBWM0k3kY2x+UkO3O0ANk+s62UElERAREQEREBERAREQERY5ZGQxOkle2NjRtznHQA95KDIq+W3LYldXoAEtOpJ3DbIyPAf2ne4dB4nuB+f+oyP/AOyvTP52ySj+LB/3Pu8ZsMUcMTYomNZG0ANa0aAA7tBE6xVKkVZjgzmc953JI87c8+sn/wCu4DoAB0UlERRQbFRwmdapPEVg65wR8iXXg4evXQHvHTvHQzkQRKVuOdzonNdFYj+/id3j3jwIPgR08OhBAlqLbqR2WtJLmSMJLJGHTmH1g/8A0dg+IKxQ25YZW1rwDXuOo5WjTJT6v8LvcT18CeuiJ6IiKIiICIiAiIgIiICIiAiIgIiICIiAiIgIiICIiAiIgKlp/PjKfRtL7W0rpUtP58ZT6Npfa2kF0iIgIiICIiAiIgIiICIiAiKFZtuEpq1GCawNc3X5MQPi4j/sB1PuGyCcZLdqOs1pfzOe86jjYNuefUB/E9wHUkDqsEdWWxK2xfIJadxwNPyIz4E/2ne/uHgPE5alRsDjM95lsPHy5XDqR6gPBvqA/OdnZMtOH0RERRFxjjnhXHS9tfC1DzvNR1c3DkZ70UWYsxse+NrHMLQ2QBgBcejdA76hS7naRlambyeMwOEN3HYG3BjpIvIWZrNg6aJCx7GljOQOBHOSXaJJA0SHXEXMKPHXEV7jLL8OugxeItV5J20al+GcS2omN2J2PA5HtJ6kN2QCCTs6Vj2CZXP5rsyxOW4gtQ25rUIkZM3flHgk7L99N73oDoBpBvyxzRRTxOilY17HDTmuGwQsiIK0Onx3R5ksVP7R26SIe/xc33948d9SJ8cjJI2yRuDmOAIcDsEHx2var5KktZ7pqAGnHmkrk6a8nvLT+K7x9RPfonYJxYIo9S1FaaTGSHMPLIxw05jvUR4H+I0RsEFSEURFrPGnGWP4Vs4urco5G5Zykz4akNKESPe9reYjRI8Nn9hQbMircTlY7uMr3Z61nGusEhte60RytIJGi3Z6nWwAT0IUKLiWrJx3Y4SFeUWa+NZkHTHXIWPkcwN797BYSfDWkF+iwss13wGds8ZiG9vDwWjXf17l7Y5r2hzSC0gEEHYIPig9oiICIiAiIgIiICIiAiIgIiICIiAqWn8+Mp9G0vtbSulpOI4swFvtGv0ILxfZlrQVmR+QkG5In2DI3ZboaDgdk6O+m0G7IiICIiAiIgIiICIiAvhI1s9yw254q0DpZn8jBrr37J6AADqSSQAB1JIAUVsE1/TrrDHX8Kx0S/3yEdD+iOnr33AlDPNf+TScY6/41jXV/uYD/uPT1b7xKqwRV4RFCwNb3+sknvJJ6k+snqswA1ody+oQRFonbBxfkeEKWCfjRixJlMvFQfLkXuZDC17HkvJBBGi0fvRW9otQxPGFSvDi4OIsviHW8m6YVZ8fzuqSeTBJaJTtocAD0JBOjoHR15l7R+E2VqEwu2ZvSNWS3SZDSmkksRRkBxY0MJPUgga2R1GwCUF5dwGLu8QY3PWKxfkcYyZlSXyjhyNlADwQDo7DR3g6100q6fgrAycSycQRsv1bsz2PsCrfmhjsOYQWGSNjg1xHKBsjqOh2OiiO7SuDRiMblPSrnV8n5UVAyvI+SR8Q29nIGlweO7kI2SNAFZbHaFwrDmfRbr83lBPFWklFWUwQzSgGOJ8obyMeQR0JBBIB0SAQl1OEcPBnm5x3n1m5G6Yw+c3pZmQeVO5Axj3ENB7tAdB0Gh0WTg7hXD8I0JMfgorENR8plbDJZklbFv8AFYHk8jR4AaCgR9oHC8j8i9tuz5pjvLec3XU5RVaYdeVaJeXkJb6gSSdgb0dRL3GMd+piLWHuyYyOzla9Z/pLEztNlkgLgyMHkILhoh52BogjewA3dFp1vtI4Qq55+HnyMzZIrIqS2BVlNaKc61E+YNMbXnY6EjvHrCx5PtP4NoX5qNjI2BLBfGPsPbRmdHBOeXQe8NLWglwAJOid63o6DdUREEO3UErxPE8wWWjTZWjex6nDxHuP7CD1Xytb55RWtR+Qs62G7+S8DxafEesd48RogmasFqvDZhMczOZuw4EHRaR3EEdQR4EdUqRnXNO1/h3JZ7i7gU0m5GOvVyE77VqkeV9ZphIDubR1skDej3lbxJcdjGE5OVvmzR0tuIaGj1SdwH6XQHx10Bwf0t4W9pcL/nov5kK5Z2q8OZa3ZlwbcHezFWPASCrlXU2W7slkyOcIxM8gQ8umkEAEkjR20LDlOFsrkbt30xTzLKtvgihRmsVq/lZvLicl7OU75yNguaepBI6rrP8AS3hb2lwv+ei/mT+lvC3tLhf89F/MiuM5PA8X3eFMS6Th+JmPocQvnsVKmLDH3K4jDYp5KhcAXBw2Wb68oIBI0eo9lGFbg+E/NYnW2QSWpZ4YLFXzc12OdvkbGXEsZvZA2NBwGgBpWv8AS3hb2lwv+ei/mT+lvC3tLhf89F/MgukVL/S3hb2lwv8Anov5kbxXwu5wa3iXDkk6AF6Mkn1d6C6REQEREBERAREQEREETJXGUapsPjkl+WxjWR65nOe8NaBsgdSR3kBR/Sd32fyf1lf4qcS/g6L9dqf+RGrNPE3VZ6Tu+z+S+sr/ABU9J3fZ/JfWV/iqzRBWek7vs/kvrK/xVpeJ4dsUu0vIcUjh+55GeEGFgdX5mSu6SO/rfEA9fHmPq69HRE2rPSd32fyX1lf4qek7vs/kvrK/xVZogrPSd32fyX1lf4q+HJ3ANnh/JaH/APSv8VWi8Sf1T/0Si7Y6dhlqpDai3yTRtkbsaOiARv36WdV/Dfzdxv6pF/sCsEyYEREUREQY5oo54nRSxtfG4ac1w2CPUoINjHbDvKWKY/G6uki/P4vb7+8eO+pFkiDHHIyWNskbw9jgC1zTsEHxBWRV8tWWtI6ehr5RJkruOmvJ7yD+K7x33HrsbOxnqWYrTCYy5rmHUjHDTmH1EeH8COo2CCiVJWj9rnB9/i6nghjpMaJcVlosgY8hE6SGUMY8chA6nZcD+xbwiK5bxX2d5fjHAY7hziB+DoYiGzJPahxUL2eUPIRGGBw+Rp7i4kHroDXU7qJsbxhjuP8AgqiyzirGZo8PXIHTvheK0unwgEhoBYSBvQ6bBA6d3aUQcy4P7NbWEs8MWrF+ranxtq/dvP8AJkB89puiYgd8oBJHUg695KjjsvmZxZl7MseLyeIy2VGRlZblnZLATyFzWsYQx+iwFpOiCRveuu88ZcTY3hXFR5HJtsPbLYjrQxV4/KSTSyHTGNHTZJ94VpRnNqlBZdBNXMsbZPJTN1IzY3yuAJAI3ojZ6oOaN7OMoOJMjkom4arRt1rMNnGRvndUyD5XAh80RPKwgc2ywEkuJ34L5g+zbM0oIIpMrCK8XEFbKQ0hPNNFUijYQ6KN8m3HmJJ0QAO4Lf8AiDN0sJ5h54JT5/djpQ8jd/dJN8u+vQdDsqoyvHmGxeGvZS9WysEdTIjGtjfSe2SzOXBrRCDrna4no4HR0evRBpd3st4gmoZDhaDM4xvDGQzYysr5IHm60GVsrohohn37QA89QCdglTc52aZLIcMcX4qPI1GS53Px5SF7mu1Exr4DyO8dnyR6jp1C6VjrJt0ILRr2K/low/yU7OWSPY3pw2dEdxGz1UlAREQFGt246rW8/M97jpkbBtzz6gP4k6A7yQFisW3eWNWmxs1ga59n5MW/FxHjruA6n3DqPdSo2FzpnvdNYf8AfyuHUj1AeDR4AfnOySST4xxVZJ5W2L5DnNO44WnbI/UT/ad7z0HgB1Jnr5tfUIIiIoiIgKl48+Y+e+jLP2TldKl48+Y+e+jLP2TkF0iIgIiICIiAiIgIiIK3iX8HRfrtT/yI1qvajxjkuGMpw1j8e3FMOZtSwPnyEjmRQhjOcEkEd+iP3LauJfwdF+u1P/IjWp9qfB2V4nynDWRxfomR2HtS2JIMk1zopg+PkAIaDvW99fUFfE9OFu0COXhe3meKhTxkcGSfQhsV5HSQ3iCA18HTmcHEkAAE7ae8BWTe0Lg/+jljPnMMbSrSiCcOhkE0cp1qIxFvlA87Gm8uzvoFo1PsmzdWu3Ix5LFRZSHiJubr0IYXsx8IDCwxNH3wJBJLwB11079+7fZtxVakv8TG/io+I7GbqZdlNrpDS1XiMQhc/Qedgkl3KOoHTvUVb8M9p9G9xLxPDkrUFfE0chTpY+bzaVj3Pmi2Wyb7jz7AJDQOgPUje9UMzjr+VyGMqWRNbxrmMuRhp+5Oe0PaCSNElpB0CSNjelyni7hwY3h7j/J8fZTF1oeIm1zVNMO5op4oiI2t20F7w5jS0jZJHcOgW4di+KyNDgxuRzjOTNZqd+SvggAtfIfksOv7DAxv7CgmWu0HhCrnHYefMxssssCq93k3mFk51qJ0oHI155h8kkFUOD44yGa7Z8rwtBYir4vFQRh0bqEvlbUr2vLj5Q6axrS0a6EO0dEqmvdmHEUuMyXCUF7Fjh3JZw5aW2/n88jBmZKYgzXI4lzSA8kaGuhK3Th/hi5ju0nijiiaeB9bMQ04oYmk87PIteHF2xrqX9NE9B79IK3jbjibhmXied9nH2Y8ViG269FlebzgSkP0ZHjbfJuLNAgAjR2RpWnZhlslnOB6uVy16G3ZtM8oTFRfVbGC0Hk5Hkk6JI5t6PeOiqOK+BcjmMpxlaht1Y2Z/h9uKgDy7cbwJRzu0O77oO7Z6LbuG6E2L4WxuNsOY6apSiryOjJLS5jA0kEgEjYOtgfmQZeG/m7jf1SL/YFYKv4b+buN/VIv9gVgiY4IiIoiIgIiICh26jZZBNC8w2WjTZQN7HqcPEe4/nBB6qYiCFWtl03m1pghs66De2yAd5YfH3jvHiNaJmrBarw2YTFOwPbvY8CCO4gjqCPWOqiNnmokMvPMlf8AFs+LfdIB0H6Q6evXTbqcWS5h21eV9OcKelTlBwj5zP6X8w8tvn8n9x8r5H5Xkd82/Det9F0/e+oRFfm+1g8lmOCMM6xVz9ijHx1E3ENtyWRZbjTKOsgJDgAQ4hzxsNAOx3rpvbfHma3Z9DW4e88bFHcrMumsZHStpBwEhBYfKHoBvlPMRvR31XQ0QcOxmOtjFYeSnkpMni38YU5qsTK1hrabAw+UDTMS8x7IIO9AkgdBpV/H2Fu5fh+w+zUydmaDtAHkWtfL0rGRnMQAQCwAbBI0NEgjqV+gUQYKleOpVhqwBwihYI2czy46AAGySSTod5JJ8VnRYLViGtCZZn8re4a6kk9wAHUk+AHVBmJAGydAd6rvLzXzy03GKt42NdXj1MB8P8R6ere9j62vPfPPdb5Ov+LW7y73yEdD+iOnrJ6asQAB0ROsFWvFWhEUDAxo667ySepJPeST1JKzoiKIiICIiAiIgKl48+Y+e+jLP2TldKl48+Y+e+jLP2TkF0iIgIiICIiAiIgIiIKziX8HRfrtT/yI1ZhRr9WG7WNecOLC5r9tcWkFrg4EEdQQQD+xR/REH97yP+ck/wCVU3ViirvREH97yP8AnJP+U9EQf3vI/wCck/5UNp7mtdrYB0djp3FelXeiIP73kf8AOSf8qrrUufiq/SddyBgio1pWN87f0c984ce/xDG/uQ22VFXeiIP73kf85J/ynoiD+95H/OSf8obWK8yf1T/0T/BQPREH97yP+ck/5Q4iAgg2sho//wCyT/lU2+8N/N3G/qkX+wKwWGrDHWqxVohyxxMDGDe9ADQG/HosymTAiIiiIiAiIgIiIC+EAjRAIPftfUQVvkZqB3Ta6Wt4199WD1sJ8P8ACenq1rRl1Z4rMIlgeHtPTfcQR0II7wQehBWcKFYqO8sbVN7YrHTmBHyJAPBwHjruI6jp3joSJqKJTttne+J7HQ2GdXxO7wPAg9xB8CPzHRBAlooiKvltS2JHQUNfJdqSwRtrCO8AfjO8Ndw8TsaIZLdtsLhDEwzWHdWxNOjru2T4D3n8w2ei81abmzCzaf5azogHWmxg+DR4e895/NoDLUqRVmEMDnOedve47c8+snx/gB0AA6KSlSCIiKIiICIiAiIgIiICpePPmPnvoyz9k5XSpePPmPnvoyz9k5BdIiICIiAiIgIiICIiAiIgIiICpafz4yn0bS+1tK6VLT+fGU+jaX2tpBdIiICIiAiIgIiICIiAiIgIiICIiAiIgjW6kdoN5+Zj2HccjDpzD6wf4g7B7iCFH8+NP7nlHMiA+9sfexv9x2fkn3E6PgT1AsVScaSw18A+ad7Y4mWK5e9xADR5dmySe4DvKJEnVjI/feUr0z4dWySj3+LG+7oT7u4z4o2RRtjjY1jGgBrQNAAdwWtY/tA4FyN6GjQ4xwNq1O8RxQw34nve49wAB2T7gtoQgiIiiIiAiIgIiICIiAiIgKl48+Y+e+jLP2TldKl48+Y+e+jLP2TkF0iIgIiICIiAiIgIiICIiAiIgKlp/PjKfRtL7W0rpUtP58ZT6Npfa2kF0iIgIiICIiAiIgIiICIiAiIgIiICIiAqbjBrH4VrHta5rrlQEEbBBsR76K5Wq9oudxWIx1aLI3GV3zWoJIw5pPM2OeNzz0B7h1QavwVSpjt54+aKsAbFUxTowIxph5JTsdOh316LVLPEHFeP7JsPxnb4stl1jLV4LPMxjYYK3nb2PJJG9kEAuJ1oDQGuvccbPRu1m5KgY3x2mB4mazRkGuhOxs9O7ayGnUdVNQ1oTWcCDCWDkIPgR3IOL8ccfZqFnGtnh7KeWp1rmLrRWmFvkqkUo1NK15BbrfTnIIBO+uiFvHZTPm5mZb0hla+SoCdhoSMyEduSMFgL2PexjR0OiAQTp3frQG3x1KsbXtZWhY17Q14awAOaBoA9OoA6AepfaVOpSgEFKrBWhHUMhjDGg/mGggkIiICIiAiIgIiICIiAqXjz5j576Ms/ZOV0tY7TcnQxvBWUbesNhNupPXgBBPPI6N2mjQOiff0QbOig4bKUcxj2X8bYbYrP2GyNBAJB0ehAPepyAiIgIiICIiAiIgIiICIiAqWn8+Mp9G0vtbSulS0/nxlPo2l9raQXSIiAiIgIiICIiAiIgIiICIiCLftMpweVeySTb2sa1gGySQABsgd58SsHpKb8kZH90f8AOme/6ev+uQfaBWIV8TdV3pKb8kZH90f86ekpvyRkf3R/zqxRTRMq70lN+SMj+6P+dad2q4W1xXhIK1bFXGWoLLHse8R6DCdPG+f1EH38oC6EiXBMqejYNKlBTrYbIMhgjbHG3UfRoAAH3/qCz+kpvyRkf3R/zqxRLgmVd6Sm/JGR/dH/ADp6Sm/JGR/dH/OrFEuCKuXLOhb5SfG3oowQC9zWaGyBs6cT4+pWir+IvwPP/wC3/cFYJkEREUREQQ791tSSKLyE88k2+VkQBOhrZOyB4hYvSc35IyP7o/519ufhzH/oTfwarBXSbV3pKb8kZH90f86ekpvyRkf3R/zqxRTRMq70lN+SMj+6P+da12k0bHE3CNrGxYe6bXSWsXiPQePfz9NjY371uyJcEy1vhaM4Ph6jiYsRf1WhDCQ1mnO73H7/AMSSf2qz9JTfkjI/uj/nViiUmVd6Sm/JGR/dH/OnpKb8kZH90f8AOrFEuCK70lN+SMj+6P8AnWahcZbje9scsTmPLHseOrSPDoSPEKWVX4YfdL/627/a1FWCIiAiIgIiICIiAqWn8+Mp9G0vtbSulS0/nxlPo2l9raQXSIiAiIgIiICIiAiIgIiICIiCuz3/AE9f9cg+0C1PiDtT4ewuUzNG1RzcrcIYhkbNag6SGuJGB7S5wO9aOyQOmitsz3/T1/1yD7QLgnHXD2Zl4y7SHtw3F9g5TzV2MZSj3RtvjrgATjucznABB6EbB8VU9foWrZgs1YLUErXwzsD4njucCNgj846pcnZVqy2H75Y2F+h3kAE6Hv0CuDcQ4TNyZa/NxtwzkcvYscO1oMQMXC+SGpdELxO1nIQISXkEPJA10B7gvV3BZ6LM4WTjzA5fiRsfC7K1VtJjphFkRsyFxBAZIRoCQnXQ9R4xXZOCeIqnFnCuP4jowzw1b8XlY2TAB7RsjRAJG+ngSrpfm6OjneBOz7gjOwUbNbLzY6bh61VeTG8Szc7q7i0g9RK1o3o9HeIC6vxHw5lcb2K3eGeE5JBk4MU6vVeyQte+Tl+UQ8kEOceYgkjqQdjvQbrLNHFDJM9wDIwXPPqAGz/2WvdnnFbOM8F6dq4u7RoTPPmj7JZuxGOnlAGuJaCdjR0encuTcJ8NxWuIIY8DwhmcNhI8DNDm4r9V8It2zyGMacdyyBzSTIAQd9HHelvfYRw/Y4e7HsTQONOMyjq73WI5Y+RwnJI24evoP2IN4yt2LH4y3elDnsqQvme1mi4hrSSAN95AKp+HeKos5DibdTEZNlHJYtuRZbkYzyUQcARE8hxIk0d6AI0D1XGOAuFs35k85JuWrcSVKF+LJN9ETAZAyMk5Q+y55ZMNkOZyjYPQBoJC2LgvhnLek+EquWxFoUIeAxSuMljIjbYD4iI3Du59B3Tv6FBuPDvFzONOELWZp4q7Txr3tFOewWf+qYH6L2ta4lo2O52j7lvC5X2McPv4e7EMdVt4p+NyL493Y5Iix/OJSAXA+OtdfEaPXa6oieiIiKIiIK+5+G8f+hN/Bq06DtY4ZfPG19bMQ1n5I4xt19Imv5yHlnIXtJ1tw0CQB3HuW43Pw3j/ANCb+DV+daeA4phi82o4DiSTLt4rlu14bVUHFCIzuImkDxoENJIcOoPLrxTPhj1+mdjm1sbPXSpeNuI6fCfC2Q4hvxTTVqMXlZI4QDI4bA6AkDeyO8hcW4qwOcsS8TwO4dzM3G1rLmTB5iFjzBBW54jERNzcsbWtAD2HWyD0OlB7S+G8jkLXaHDleEs9ms3d8n6Bt1o3vhZAGMHKx4OmadsvYQC/1HR0H6MqTNs1YbDAQyWMPbvvAIBG/wB6zLhnF+GylbiiHhumJoKXG1OrFYMbS11eSuQbB6EEF0RPXu2DvqdHde2LG5KzwziquMoWLeNgydZ2Up0yRLJTaTtjACC7R5CW76gHoe5BtHFedocNcNXuIMi54pUoTNIYxzOIHcAPEkkAfnX3hjJ2Mvg62Ss4uzi5JwXebWHse9g2dElhLeo0Ro9xG9HYXDM/whdzHAfaBHhuGchBgrLKj+HsXPXeyRthjNSyRwu6xghwABA7idDWz0/irDZODsZyOG4SgdTyRxb21Y4j5NwkcNuDTsacSXaOxonwQX3GvEdPhXhXIcR3opp6tCPykrIAC8jYGgCQN9fEhXEcjXtYR+O3mAPq6f8AIX53tcK3LfZpxYzBUcrHPPiI6b8UMJPUbJYEgdzgPeRJIPlhz2DR2CT0Ww2cRlana+Mji8bPlnXZWCZ+QxkrDiwISBJDaJ5Cwlg3EASSevgg7TsF2gRsd/VQMN/WZD9bd/tauMdivDmWgz2Ls5l2To8QUBYblnOxMzG3g8vIElpzzHMNkPYWjY6gBoJC7Phv6zIfrbv9rUwmVgiIiiIiAiIgIiICpafz4yn0bS+1tK6VLT+fGU+jaX2tpBdIiICIiAiIgIiICIiAiIgIiIK7Pf8AT1/1yD7QKxVdnGTvpsdBA+d8c8Unk2FoLg14J1zEDege8hefSV32fyX/AM6/xVYl2s0VZ6Tu+z+S+sr/ABU9J3fZ/JfWV/ipCo1/hfC3+JafEN2tLYvUm6rc9iQxRHr8sRb5A/TiOfW9HW1eKs9J3fZ/JfWV/irBdzk1OBs1jBZJrDIyMafAflPeGNH9b4lwCQq6RVnpO77P5L6yv8VPSd32fyX1lf4qQqzRVnpO77P5L6yv8VPSd32fyX1lf4qQr3xF+Bp//b/uCsFRZGzfu1HVmYS9GZC0c73wcrRsE71ITrXqBV6O5M8MZ2IiKKIiIK67+G8f+hN/BqsVV5bzmO9TtQUprQiEjXticwOGwNH5bgPA+K++k7vs/k//AJ1/iqzjPqzRVnpO77P5L6yv8VPSd32fyX1lf4qRai0uFsJW4oscTR1ZH5WxH5MzSzySCNh1tsbXEtjBIBIYBsjrtXqrPSd32fyX1lf4qj5HOzUKFi9awWTZBXidLK4PgOmtBJOhL16BIVdoqz0nd9n8l9ZX+KnpO77P5L6yv8VIVZoqz0nd9n8l9ZX+KnpO77P5L6yv8VIVZqvw39ZkP1t3+1q8ek7vs/kvrK/xV6wjJxHZlsV5K7prDpGxyOaXAEAdeUkeHrSJViiIo0IiICIiAiIgKlp/PjKfRtL7W0rpUtNp/pplH6+T6Ppt37xJZJH7iP3oLpF4Y9rt8rg7RIOuuiPD869oCIiAiIgIiICIiAiIgIiICIiAiIgKl4y/BEH0nQ/8uJXS532253MYLFY6ajXqy1n243SmVriRJG9ksYGnDoSwgjROgdEd6DoiKDg5bs+HpzZKOOK5JCx88cbSGseQCQAST0PTvPcpyAiIgIiICIiAiIgIiICIiAqXjz5j576Ms/ZOV0qXjz5j576Ms/ZOQXSIiAiIgIiICIiAiIgIiICIiAtD4v4cyPEWayEOP4gt4osrQczIvvJdmXo7RB/7kde4rfFRY+3VfxZkmMswuca9cBokBJIMuxrfeg17s94MzWBwT6NriG1Vf5w94bTELoyCAAdyRF2zru3roOi2T0Nkfa3NfVVPgK6RBS+hsj7W5r6qp8BPQ2R9rc19VU+ArpEFL6GyPtbmvqqnwE9DZH2tzX1VT4CukQUvobI+1ua+qqfAT0Nkfa3NfVVPgK6RBS+hsj7W5r6qp8BPQ2R9rc19VU+ArpEFL6GyPtbmvqqnwE9DZH2tzX1VT4CukQUvobI+1ua+qqfAT0Nkfa3NfVVPgK6RBS+hsj7W5r6qp8BPQ2R9rc19VU+ArpEFL6GyPtbmvqqnwE9DZH2tzX1VT4CukQUvobI+1ua+qqfAUHMcJOy9MVMlxHl7MIkbIGOjqj5TSCD0hHiO7uI2DsEraEQUvobI+1ua+qqfAT0Nkfa3NfVVPgK6RBS+hsj7W5r6qp8BPQ2R9rc19VU+ArpEFL6GyPtbmvqqnwE9DZH2tzX1VT4CukQUvobI+1ua+qqfAT0Nkfa3NfVVPgK6RBS+hsj7W5r6qp8BPQ2R9rc19VU+ArpEFL6GyPtbmvqqnwE9DZH2tzX1VT4CukQUvobI+1ua+qqfAT0Nkfa3NfVVPgK6RBS+hsj7W5r6qp8BYLvDlm7Tmp2+J8zNXnjdFLGY6oD2OBBGxCCNgkbBB9RC2FEBERAREQEREBERAREQEREBERAXMuGOCjj+13LZh9ctpxs8vVcRoc829geHT5Y14bHrC6aiAiIgIiICIiAiIgIiICIiAiIgIiICIiAiIgIiICIiAiIgIiICIiAiIgIiICIiAiIgIiICIiAiIgIiICIiAiIgIiIPEj2xsc97g1jQSSToADvUZmRx7g3lv1XczxG3UzTt53po69SdHQ7zoqJxhHJLwlmIomOkkfQnaxjQSXExuAAA6kk+C5zw7hc7w/wZwlHFRxZsTZGiZ2UcN5B0cPkSCJuYvPOD0MnySNnu2UHXV4lkZFGZJXtYxo2XOOgB7yVxThribiaW3Uq5rO8Q1rNjh+/byUPohokqWo5YABXYYSXhge8ADnBGjsk7W3dqNUTS8M3MhjbuWwFS26bJV465lcT5I+SkfCBt7Wv6loBIJB5TroG+xSMljEkT2vY4bDmnYI9xC9rhMdnK8PXI7GKlyGA4cz3FQFWtDjyJmV/MnulLYXscWB8sZeAGA9CSOpCztznaW/E4xj5rtWOSG2a96xSeJZXictrmeJkDzsxAOLAI9k94PQB29eHuaxpc4gNAJJJ0AB4rlsuQ4xrU87dyNvNyB+d8xp16lVrWV4Dyal5hC+RzN8w5gCdHw7xWMdxVPluDcjmJ85zOx+SqWGtp8zHTiRvkvKsEWgXsa7biGggdOXZBDsVeaGxBHPBKyWKRocyRjgWuBGwQR0II8Qsy4VYzXaBW4YxnIc5TyTeHKUuOqVcM0w27x6Sxz6jIj1poLPuYDS4g9Nt2Orc44HFVSw+3lX05OKJ6UtU1GeRZSFZ7mv2Iw4DnDdPLiNnW+uiHUlFF6m+7JQZcrutxsD3wCQeUa09xLd7APrIXNO1LMcYUc5fjw8+ZhdHj4pMLBSxongu2jI4PZPJyO5QAGDRLAGuc7exsXfZ3iLtLi3je9cdcPneWjMflo2tbIwVK/wAphDAXAHmYDsj5Gu8EkNskyuLYyF78lTY2xN5CEmdoEsmyORp31dsEaHXfRTlyLhTHZy3neG8plW5Kv5nNmOaFlGOONrBa+5ktEewXs0AQQXAAjqSTvsHFeNnbG5lbLgSebFvNjJ2n7uS1m9s6a0eb+z0J1sILi7arUq7rNyzDXgaQHSSyBjWknQBJ6dSQB6yQFinymNgiMs2RqRME3m5c+ZoAl3rk2T99vprvXGsha41zvCOYhyUdqWQtjE1I1JQ+OZtuPXIPItHJyA9A9+wA4EjZV3WxWXynF+Ms3RerxU+KMg+PkpxtYIhC/keSYzsO2W8+9kE6O+qDq6w2p4KteSxZmjhhiaXPkkcGtYANkknoAPWVSnivGiFkpr5blkY2QAY2ckAyiLqOTYPMdkd4b8ru6rlXE1nj3MY7jfH2xbczzTK1247zSQh8PI4VXQ8sGi4gNO/KuLi940C0AB3KN7JGNkjc1zXAEOadgg9x2va5BkMzx1QvZaniIbuQlbiHSY2FlNzIqsrIGaZIHxgPcX7LS2U7OxygA72bgu5n5eGsxYvZB0jmBxpyy15XyxER7Ic0wxGQB3UBrSe9uyQg3lFxKrPxVcdwfaylniICln5YLluOHnZYYajgyYNEDCInPIbpzNAucASA0jFxDf41zvDvFkFVnEcUU+FtvrwSQaljsRS8oYwiFnVzd/JaX7ABB3skO5IuUPy3GT+K6NShctMxnk6RqS26rwLTS77uJGsrnTtaAJdGG9HaI2TWQT9o89Si+TNZ+N1zE5WafVCHcE8UrfN2j7l0JBOgdlwB1vQIDtSLkPD2Z7Qb3GdOPITWKcAFJ4gkqPbDYgfWaZyS2BwDxK5/Uys5SxgIAcS6pvv7RsjwrarSXM7JLkuFb8rmCqyMw24pWiJjHCMFrnsc4EEkkdRojYDuiKm4KkE3CmMlbNbmDq7Dz2oTFKen4zC1pBHdogdAO/vNygIiICIiAiIgIiICIiAiIgIiICIiAiIgIiICIiAiIgIiIKjD8O4bE2pbePotjnmbyulc9z3cu98oLiSG766Gh7lboiCDkMZQyE9Ke7WbNJSn84rOcT9zk5S3mGvHTnD9pU5EQEREBERAREQEREBERAREQEREBERAREQEREBERAREQEREBERAREQEREBERAREQf/Z)"
      ]
    },
    {
      "cell_type": "markdown",
      "metadata": {
        "id": "xSiP4qhfIZmR"
      },
      "source": [
        "**Example: Python IF ELIS ELSE Statement**"
      ]
    },
    {
      "cell_type": "code",
      "metadata": {
        "colab": {
          "base_uri": "https://localhost:8080/"
        },
        "id": "Xd9uFmz1IeWO",
        "outputId": "7f9037c8-e671-45d1-b340-514b59df1680"
      },
      "source": [
        "# Program disusun untuk mengecek apakah angka merupakan bilangan positif, negatif, atau nol\n",
        "# dan menampilkan tulisan yang sesuai\n",
        "\n",
        "angka = 3.4\n",
        "\n",
        "if angka > 0:\n",
        "  print(\"bilangan positif\")\n",
        "elif angka == 0:\n",
        "  print(\"nol\")\n",
        "else:\n",
        "  print(\"bilangan negatif\")"
      ],
      "execution_count": null,
      "outputs": [
        {
          "output_type": "stream",
          "name": "stdout",
          "text": [
            "bilangan positif\n"
          ]
        }
      ]
    },
    {
      "cell_type": "code",
      "metadata": {
        "colab": {
          "base_uri": "https://localhost:8080/"
        },
        "id": "M01Yhl24JaZi",
        "outputId": "18dc035d-6f15-43b7-cda2-340f28d1b295"
      },
      "source": [
        "# statement if\n",
        "x = 4\n",
        "if x % 2 == 0: # jika x dibagi 2 sisanya samadengan 0\n",
        "  print(\"x habis dibagi dua\")\n",
        "\n",
        "# statement if ... elif ... else\n",
        "x = 7\n",
        "if x % 2 == 0: # jika x dibagi 2 sisanya samadengan 0\n",
        "  print(\"x habis dibagi dua\")\n",
        "elif x % 3 == 0: # jika x dibagi 3 sisanya samadengan 0\n",
        "  print(\"x habis dibagi tiga\")\n",
        "elif x % 5 == 0: # jika x dibagi 5 sisanya samadengan 0\n",
        "  print(\"x habis dibagi lima\")\n",
        "else:\n",
        "    print(\"x tidak habis dibagi dua, tiga, maupun lima\")"
      ],
      "execution_count": null,
      "outputs": [
        {
          "output_type": "stream",
          "name": "stdout",
          "text": [
            "x habis dibagi dua\n",
            "x tidak habis dibagi dua, tiga, maupun lima\n"
          ]
        }
      ]
    },
    {
      "cell_type": "markdown",
      "metadata": {
        "id": "fLkabGZoKxeY"
      },
      "source": [
        "#### Python Nested IF Statement"
      ]
    },
    {
      "cell_type": "markdown",
      "metadata": {
        "id": "cuQyYLK4K0fD"
      },
      "source": [
        "**Example: Python NESTED IF Statement**"
      ]
    },
    {
      "cell_type": "code",
      "metadata": {
        "id": "wRauPWnPfdNr",
        "colab": {
          "base_uri": "https://localhost:8080/"
        },
        "outputId": "bb252da7-855a-4030-c5f6-9f7c9df780ac"
      },
      "source": [
        "# Program disusun untuk mengecek apakah angka merupakan bilangan positif, negatif, atau nol\n",
        "# dan menampilkan tulisan yang sesuai\n",
        "\n",
        "angka = float(input(\"Masukkan angka: \"))\n",
        "if angka >= 0:\n",
        "  if angka == 0:\n",
        "    print(\"Nol\")\n",
        "  else:\n",
        "    print(\"Bilangan Positif\")\n",
        "else:\n",
        "  print(\"Bilangan Negatif\")"
      ],
      "execution_count": 1,
      "outputs": [
        {
          "output_type": "stream",
          "name": "stdout",
          "text": [
            "Masukkan angka: 4\n",
            "Bilangan Positif\n"
          ]
        }
      ]
    },
    {
      "cell_type": "markdown",
      "metadata": {
        "id": "TenyOefsMK78"
      },
      "source": [
        "### Latihan "
      ]
    },
    {
      "cell_type": "markdown",
      "metadata": {
        "id": "YM2k_aA-MNYH"
      },
      "source": [
        "Buatlah sebuah fungsi \"Mahal_Diskon\" dengan ketentuan :\n",
        "*   Input berupa data harga produk dengan tipe data numerik tunggal\n",
        "*   Kategori input adalah \"Murah\" dan \"Mahal\", kemudian diskon ada 3 kategori \"10%\", \"20%\", dan \"40%\"\n",
        "*   Output pertama sebuah teks/string yang menyatakan \"Mahal\" atau \"Murah\" dan keterangan \"Kamu dapat diskon...\"\n",
        "*   Output kedua adalah harga yang perlu dibayarkan\n",
        "\n",
        "\n",
        "\n"
      ]
    },
    {
      "cell_type": "code",
      "metadata": {
        "id": "SFp9CebnM56p",
        "colab": {
          "base_uri": "https://localhost:8080/"
        },
        "outputId": "520e6d99-a05a-43eb-af4d-080f5e1db003"
      },
      "source": [
        "# Ketikkan codingan anda\n",
        "harga = int(input(\"harga produk: \"))\n",
        "if harga >= 10000:\n",
        "  print(\"mahal\")\n",
        "  if harga > 10000:\n",
        "    print(\"kamu dapat diskon 40%\")\n",
        "  else:\n",
        "    print(\"kamu dapat diskon 20%\")\n",
        "else:\n",
        "  print(\"murah\")\n",
        "  print(\"kamu dapat diskon 10%\")\n",
        "\n",
        "if harga > 10000:\n",
        "  print(\"harga yang perlu dibayarkan\", harga-harga*(40/100))\n",
        "elif harga == 10000:\n",
        "  print(\"harga yang perlu dibayarkan\", harga-harga*(20/100))\n",
        "else:\n",
        "  print(\"harga yang perlu dibayarkan\", harga-harga*(10/100))"
      ],
      "execution_count": 22,
      "outputs": [
        {
          "output_type": "stream",
          "name": "stdout",
          "text": [
            "harga produk: 12000\n",
            "mahal\n",
            "kamu dapat diskon 40%\n",
            "harga yang perlu dibayarkan 7200.0\n"
          ]
        }
      ]
    }
  ]
}