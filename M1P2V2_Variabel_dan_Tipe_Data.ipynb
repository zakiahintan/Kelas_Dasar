{
  "nbformat": 4,
  "nbformat_minor": 0,
  "metadata": {
    "colab": {
      "name": "Untitled2.ipynb",
      "provenance": [],
      "authorship_tag": "ABX9TyNNeZF6c5tR1Vu6DMSpyaNq",
      "include_colab_link": true
    },
    "kernelspec": {
      "name": "python3",
      "display_name": "Python 3"
    },
    "language_info": {
      "name": "python"
    }
  },
  "cells": [
    {
      "cell_type": "markdown",
      "metadata": {
        "id": "view-in-github",
        "colab_type": "text"
      },
      "source": [
        "<a href=\"https://colab.research.google.com/github/zakiahintan/Kelas_Dasar/blob/main/M1P2V2_Variabel_dan_Tipe_Data.ipynb\" target=\"_parent\"><img src=\"https://colab.research.google.com/assets/colab-badge.svg\" alt=\"Open In Colab\"/></a>"
      ]
    },
    {
      "cell_type": "markdown",
      "metadata": {
        "id": "Qp3Ot-07wsaB"
      },
      "source": [
        "# Variabel dan Tipe Data"
      ]
    },
    {
      "cell_type": "markdown",
      "metadata": {
        "id": "xzlKh-9hwwAn"
      },
      "source": [
        "## Variabel"
      ]
    },
    {
      "cell_type": "markdown",
      "metadata": {
        "id": "BnY-sld1w4HZ"
      },
      "source": [
        "**Variabel** : Lokasi penyimpanan yang dapat digunakan untuk menampung sebuah data atau informasi. Syarat-syarat penamaan variabel :\n",
        "1. Karakter-karakter yang digunakan untuk penamaan variabel adalah alphabet, angka, dan underscore.\n",
        "2. Karakter pertama variabel harus berupa huruf atau garis bawah/underscore tidak bisa berupa angka.\n",
        "3. Nama sebuah variabel tidak boleh menggunakan keywords atau reserved words dari bahasa python seperti for, if, dan lainnya.\n",
        "4. Karakter pada nama variabel bersifat sensitif (case-sensitive)."
      ]
    },
    {
      "cell_type": "code",
      "metadata": {
        "id": "QaOc3GP0yZYK"
      },
      "source": [
        "# membuat variabel\n",
        "kalimat = 'ini adalah variabel'\n",
        "bilangan1 = 4\n",
        "bilangan2 = 2.5\n",
        "bilangan3 = True\n",
        "bilangan4 = 1j + 4"
      ],
      "execution_count": null,
      "outputs": []
    }
  ]
}