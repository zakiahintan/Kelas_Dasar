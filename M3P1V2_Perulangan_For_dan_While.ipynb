{
  "nbformat": 4,
  "nbformat_minor": 0,
  "metadata": {
    "colab": {
      "name": "Untitled12.ipynb",
      "provenance": [],
      "collapsed_sections": [],
      "authorship_tag": "ABX9TyNtB4QjA4Ms1fl9LnwN2onf",
      "include_colab_link": true
    },
    "kernelspec": {
      "name": "python3",
      "display_name": "Python 3"
    },
    "language_info": {
      "name": "python"
    }
  },
  "cells": [
    {
      "cell_type": "markdown",
      "metadata": {
        "id": "view-in-github",
        "colab_type": "text"
      },
      "source": [
        "<a href=\"https://colab.research.google.com/github/zakiahintan/Kelas_Dasar/blob/main/M3P1V2_Perulangan_For_dan_While.ipynb\" target=\"_parent\"><img src=\"https://colab.research.google.com/assets/colab-badge.svg\" alt=\"Open In Colab\"/></a>"
      ]
    },
    {
      "cell_type": "markdown",
      "metadata": {
        "id": "uQ7oYfuHm2yV"
      },
      "source": [
        "# Looping/Perulangan"
      ]
    },
    {
      "cell_type": "markdown",
      "metadata": {
        "id": "iFlGIl9Ym_aE"
      },
      "source": [
        "Python menyediakan dua statement untuk melakukan proses perulangan yaitu for dan while. Diantara kedua statement ini, secara umum for lebih banyak digunakan daripada while."
      ]
    },
    {
      "cell_type": "markdown",
      "metadata": {
        "id": "rdbSlfu9nNyP"
      },
      "source": [
        "### For Loop"
      ]
    },
    {
      "cell_type": "markdown",
      "metadata": {
        "id": "QzICsB7BnPuD"
      },
      "source": [
        "Perulangan `for` digunakan untuk melakukan iterasi di dalam `sequence` seperti `list`, `tuple`, `string`, dan `array` atau objek yang dapat diiterasi lainnya."
      ]
    },
    {
      "cell_type": "markdown",
      "metadata": {
        "id": "_MYQAIF8nn2i"
      },
      "source": [
        "**For Loop Syntax**"
      ]
    },
    {
      "cell_type": "markdown",
      "metadata": {
        "id": "I2uNYGV1ntfg"
      },
      "source": [
        "``` \n",
        "for val in sequence\n",
        "  loop body\n",
        "  ```"
      ]
    },
    {
      "cell_type": "markdown",
      "metadata": {
        "id": "GCDOBY4Cn3eu"
      },
      "source": [
        "**For Loop Flowchart**\n",
        "\n",
        "![d.jpg](data:image/jpeg;base64,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)"
      ]
    },
    {
      "cell_type": "markdown",
      "metadata": {
        "id": "XgYmeH5woo_V"
      },
      "source": [
        "**Example: Python for Loop**"
      ]
    },
    {
      "cell_type": "code",
      "metadata": {
        "colab": {
          "base_uri": "https://localhost:8080/"
        },
        "id": "ApwoOPPcotCa",
        "outputId": "dabe8d90-1e2d-4885-d7ef-3189bf67c6da"
      },
      "source": [
        "# Program untuk menghitung jumlah semua angka dalam sebuah list\n",
        "L1 = [2, 4, 5, 7, 9]\n",
        "jumlah = 0\n",
        "\n",
        "# iterasi di dalam list\n",
        "for i in L1:\n",
        "  jumlah = jumlah + i\n",
        "\n",
        "  print(jumlah)"
      ],
      "execution_count": null,
      "outputs": [
        {
          "output_type": "stream",
          "name": "stdout",
          "text": [
            "2\n",
            "6\n",
            "11\n",
            "18\n",
            "27\n"
          ]
        }
      ]
    },
    {
      "cell_type": "markdown",
      "metadata": {
        "id": "c1ARnkK7phYs"
      },
      "source": [
        "### The range() function"
      ]
    },
    {
      "cell_type": "code",
      "metadata": {
        "colab": {
          "base_uri": "https://localhost:8080/"
        },
        "id": "oBOG3BKFpm5E",
        "outputId": "dd85982d-4dd9-4aa7-be4e-3ec078737127"
      },
      "source": [
        "# Program untuk melakukan iterasi di dalam list melalui indeks\n",
        "minuman = [\"teh\", \"boba\", \"kopi\", \"susu\"]\n",
        "p = len(minuman)\n",
        "\n",
        "# iterasi di dalam list melalui indeks\n",
        "for i in range(p):\n",
        "  print(minuman[i])"
      ],
      "execution_count": null,
      "outputs": [
        {
          "output_type": "stream",
          "name": "stdout",
          "text": [
            "teh\n",
            "boba\n",
            "kopi\n",
            "susu\n"
          ]
        }
      ]
    },
    {
      "cell_type": "markdown",
      "metadata": {
        "id": "S23ssHG3qCE1"
      },
      "source": [
        "### For Loop with Else"
      ]
    },
    {
      "cell_type": "code",
      "metadata": {
        "colab": {
          "base_uri": "https://localhost:8080/"
        },
        "id": "zdzETl1yqFXG",
        "outputId": "34281ce2-737b-48ac-aa98-a6dedc291d68"
      },
      "source": [
        "# Contoh for loop menggunakan else\n",
        "for i in range(p):\n",
        "  print(minuman[i])\n",
        "else:\n",
        "  print(\"elemen sudah habis\")"
      ],
      "execution_count": null,
      "outputs": [
        {
          "output_type": "stream",
          "name": "stdout",
          "text": [
            "teh\n",
            "boba\n",
            "kopi\n",
            "susu\n",
            "elemen sudah habis\n"
          ]
        }
      ]
    },
    {
      "cell_type": "markdown",
      "metadata": {
        "id": "enxwK-d2qUVo"
      },
      "source": [
        "### Latihan 1"
      ]
    },
    {
      "cell_type": "markdown",
      "metadata": {
        "id": "feef_OgqqZ7q"
      },
      "source": [
        "Diberikan `list_tagihan`. Kamu diminta untuk menghitung jumlah seluruh tagihan. Gunakan looping `for` untuk menyelesaikan tugas ini dan simpan hasilnya pada variabel `total_tagihan`\n",
        "```\n",
        "list_tagihan = [50000, 75000, -150000, 125000, 300000, -50000, 200000]\n",
        "```"
      ]
    },
    {
      "cell_type": "code",
      "metadata": {
        "colab": {
          "base_uri": "https://localhost:8080/"
        },
        "id": "n3ue7LvSq-ZT",
        "outputId": "694dee4b-caf9-4d9a-c06b-925248271a9d"
      },
      "source": [
        "# tuliskan code kalian\n",
        "list_tagihan = [50000, 75000, -150000, 125000, 300000, -50000, 200000]\n",
        "total_tagihan = 0\n",
        "\n",
        "for a in list_tagihan:\n",
        "  total_tagihan = total_tagihan + a\n",
        "\n",
        "print(total_tagihan)"
      ],
      "execution_count": null,
      "outputs": [
        {
          "output_type": "stream",
          "name": "stdout",
          "text": [
            "550000\n"
          ]
        }
      ]
    },
    {
      "cell_type": "markdown",
      "metadata": {
        "id": "GtN0HjZ8uooM"
      },
      "source": [
        "### While Loop"
      ]
    },
    {
      "cell_type": "markdown",
      "metadata": {
        "id": "chYFCRDaurA7"
      },
      "source": [
        "While loop pada python digunakan untuk melakukan iterasi pada blok kode selama nilai dari `test expression` adalah `true`.\n",
        "\n",
        "**Syntax of while loop in python**\n",
        "\n",
        "``` \n",
        "while test_expression:\n",
        "  body of while \n",
        "  ```\n",
        "\n",
        "**While Loop Flowchart**\n",
        "\n",
        "![e.jpg](data:image/jpeg;base64,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)"
      ]
    },
    {
      "cell_type": "markdown",
      "metadata": {
        "id": "rtSCzwPeviE5"
      },
      "source": [
        "**Example: Python while Loop**"
      ]
    },
    {
      "cell_type": "code",
      "metadata": {
        "colab": {
          "base_uri": "https://localhost:8080/"
        },
        "id": "0T68ugF9vgLB",
        "outputId": "dc62cdbf-5edd-4528-d372-94b2146dcfc0"
      },
      "source": [
        "# Program untuk menjumlahkan semua\n",
        "# bilangan asli hingga suku ke-n\n",
        "# jum = 1+2+3+...+n\n",
        "\n",
        "n = 10\n",
        "jumlah = 0\n",
        "i = 1\n",
        "\n",
        "while i <= n:\n",
        "  jumlah = jumlah + i\n",
        "  i = i + 1\n",
        "\n",
        "  print(jumlah)"
      ],
      "execution_count": null,
      "outputs": [
        {
          "output_type": "stream",
          "name": "stdout",
          "text": [
            "1\n",
            "3\n",
            "6\n",
            "10\n",
            "15\n",
            "21\n",
            "28\n",
            "36\n",
            "45\n",
            "55\n"
          ]
        }
      ]
    },
    {
      "cell_type": "markdown",
      "metadata": {
        "id": "pVb1N8IzwOrz"
      },
      "source": [
        "### While Loop with else "
      ]
    },
    {
      "cell_type": "markdown",
      "metadata": {
        "id": "lNP5LQe1wTMV"
      },
      "source": [
        "Sama dengan `for` loop kita juga dapat menombinasikan `while` loop dengan blok `else`. Bagian `else` akan dieksekusi jika nilai pada `text expression` pada `while loop` bernilai `false`. Perhatikan contoh berikut :"
      ]
    },
    {
      "cell_type": "code",
      "metadata": {
        "colab": {
          "base_uri": "https://localhost:8080/"
        },
        "id": "wK5ixXGhwp9y",
        "outputId": "3920bf63-46fa-4459-b8e3-fbb663720087"
      },
      "source": [
        "jum = 0\n",
        "i = 1\n",
        "while i <= n:\n",
        "  jum = jum + i\n",
        "  i = i + 1\n",
        "else:\n",
        "  print(jum) # dieksekusi diluar looping"
      ],
      "execution_count": null,
      "outputs": [
        {
          "output_type": "stream",
          "name": "stdout",
          "text": [
            "55\n"
          ]
        }
      ]
    },
    {
      "cell_type": "markdown",
      "metadata": {
        "id": "yv9ESMQbxH-E"
      },
      "source": [
        "### Latihan 2"
      ]
    },
    {
      "cell_type": "markdown",
      "metadata": {
        "id": "GpJxCulixJyo"
      },
      "source": [
        "Diberikan list `tagihan` hitunglah `total_tagihan` menggunakan `while_loop`.\n",
        "```\n",
        "tagihan = [50000, 75000, 125000, 300000, 200000]\n",
        "```"
      ]
    },
    {
      "cell_type": "code",
      "metadata": {
        "colab": {
          "base_uri": "https://localhost:8080/"
        },
        "id": "rjHQ7f-5xamC",
        "outputId": "60221eb0-d3cc-48e4-a79f-9282cc161e68"
      },
      "source": [
        "# tuliskan kodemu\n",
        "tagihan = [50000, 75000, 125000, 300000, 200000]\n",
        "total_tagihan = 0\n",
        "tagihan_min = 50000\n",
        "n = 0\n",
        "\n",
        "while n <= 4:\n",
        "  tagihan_min = tagihan_min + n*25000\n",
        "  total_tagihan = tagihan_min + total_tagihan \n",
        "  n = n + 1\n",
        "\n",
        "print(total_tagihan)"
      ],
      "execution_count": 20,
      "outputs": [
        {
          "output_type": "stream",
          "name": "stdout",
          "text": [
            "750000\n"
          ]
        }
      ]
    }
  ]
}