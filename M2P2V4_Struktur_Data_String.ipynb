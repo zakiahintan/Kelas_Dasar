{
  "nbformat": 4,
  "nbformat_minor": 0,
  "metadata": {
    "colab": {
      "name": "Untitled8.ipynb",
      "provenance": [],
      "collapsed_sections": [],
      "authorship_tag": "ABX9TyMTF/fO+aDilYYAEbl9TwQR",
      "include_colab_link": true
    },
    "kernelspec": {
      "name": "python3",
      "display_name": "Python 3"
    },
    "language_info": {
      "name": "python"
    }
  },
  "cells": [
    {
      "cell_type": "markdown",
      "metadata": {
        "id": "view-in-github",
        "colab_type": "text"
      },
      "source": [
        "<a href=\"https://colab.research.google.com/github/zakiahintan/Kelas_Dasar/blob/main/M2P2V4_Struktur_Data_String.ipynb\" target=\"_parent\"><img src=\"https://colab.research.google.com/assets/colab-badge.svg\" alt=\"Open In Colab\"/></a>"
      ]
    },
    {
      "cell_type": "markdown",
      "metadata": {
        "id": "Z8Rm5ZjaIhRp"
      },
      "source": [
        "# String"
      ]
    },
    {
      "cell_type": "markdown",
      "metadata": {
        "id": "fpHonqfVIj7X"
      },
      "source": [
        "String dideklarasikan dengan diapit oleh tanda petik."
      ]
    },
    {
      "cell_type": "code",
      "metadata": {
        "colab": {
          "base_uri": "https://localhost:8080/"
        },
        "id": "tpy7cNfrIoUM",
        "outputId": "65e6c28d-3645-4b8d-9649-cf3cddf7f4ab"
      },
      "source": [
        "#Menampilkan string dengan fungsi print()\n",
        "print(\"hello world!\")"
      ],
      "execution_count": 1,
      "outputs": [
        {
          "output_type": "stream",
          "name": "stdout",
          "text": [
            "hello world!\n"
          ]
        }
      ]
    },
    {
      "cell_type": "code",
      "metadata": {
        "colab": {
          "base_uri": "https://localhost:8080/"
        },
        "id": "p5yS1PngIxdS",
        "outputId": "7800e3a8-b42b-4811-baad-072b7ef73de6"
      },
      "source": [
        "#Membuat variabel bertipe string\n",
        "A = \"Belajar stuktur data string\"\n",
        "print(A)"
      ],
      "execution_count": 2,
      "outputs": [
        {
          "output_type": "stream",
          "name": "stdout",
          "text": [
            "Belajar stuktur data string\n"
          ]
        }
      ]
    },
    {
      "cell_type": "code",
      "metadata": {
        "colab": {
          "base_uri": "https://localhost:8080/"
        },
        "id": "61nfV5psI7O5",
        "outputId": "7d76c3eb-3ee7-44fd-d157-e7fc6e3dd80d"
      },
      "source": [
        "#Membuat variabel string multi-line dengan 3 tanda petik\n",
        "B = \"\"\"Belajar Python\n",
        "Pejuang Data 3.0\n",
        "PSDS\n",
        "String\"\"\"\n",
        "print(B)"
      ],
      "execution_count": 4,
      "outputs": [
        {
          "output_type": "stream",
          "name": "stdout",
          "text": [
            "Belajar Python\n",
            "Pejuang Data 3.0\n",
            "PSDS\n",
            "String\n"
          ]
        }
      ]
    },
    {
      "cell_type": "code",
      "metadata": {
        "colab": {
          "base_uri": "https://localhost:8080/"
        },
        "id": "sd-qNrjoJMpm",
        "outputId": "10587c5c-6fb3-42d3-b3d3-e35996e5e95f"
      },
      "source": [
        "#Menampilkan karakter tertentu dalam string\n",
        "print(A[2])"
      ],
      "execution_count": 5,
      "outputs": [
        {
          "output_type": "stream",
          "name": "stdout",
          "text": [
            "l\n"
          ]
        }
      ]
    },
    {
      "cell_type": "code",
      "metadata": {
        "colab": {
          "base_uri": "https://localhost:8080/"
        },
        "id": "f6rkbIlnJXjw",
        "outputId": "fed965c1-577d-4f43-e5c6-e6c102e85501"
      },
      "source": [
        "#Slicing pada string\n",
        "A = \"Belajar struktur data string\"\n",
        "print(A[:5])\n",
        "print(A[3:])\n",
        "print(A[-5:])\n",
        "print(A[4:9])"
      ],
      "execution_count": 6,
      "outputs": [
        {
          "output_type": "stream",
          "name": "stdout",
          "text": [
            "Belaj\n",
            "ajar struktur data string\n",
            "tring\n",
            "jar s\n"
          ]
        }
      ]
    },
    {
      "cell_type": "markdown",
      "metadata": {
        "id": "nNv_Qon_JqFg"
      },
      "source": [
        "### Latihan 1"
      ]
    },
    {
      "cell_type": "code",
      "metadata": {
        "colab": {
          "base_uri": "https://localhost:8080/"
        },
        "id": "8ubiSI-GJsnt",
        "outputId": "009db731-0f68-409e-e1dc-10419be382ea"
      },
      "source": [
        "# Buatlah variabel string lalu lakukan slicing dengan menghilangkan karakter pertama dan terakhir\n",
        "CC = \"Cinta Kita\"\n",
        "print(CC)\n",
        "print(CC[1:9])"
      ],
      "execution_count": 37,
      "outputs": [
        {
          "output_type": "stream",
          "name": "stdout",
          "text": [
            "Cinta Kita\n",
            "inta Kit\n"
          ]
        }
      ]
    },
    {
      "cell_type": "markdown",
      "metadata": {
        "id": "uyXNhx4vKat3"
      },
      "source": [
        "### Memodifikasi String"
      ]
    },
    {
      "cell_type": "code",
      "metadata": {
        "colab": {
          "base_uri": "https://localhost:8080/",
          "height": 35
        },
        "id": "AED17rcuKdxr",
        "outputId": "4a82bede-89d7-4fbf-fddf-b2d5bc30e168"
      },
      "source": [
        "# upper()\n",
        "A.upper()"
      ],
      "execution_count": 10,
      "outputs": [
        {
          "output_type": "execute_result",
          "data": {
            "application/vnd.google.colaboratory.intrinsic+json": {
              "type": "string"
            },
            "text/plain": [
              "'BELAJAR STRUKTUR DATA STRING'"
            ]
          },
          "metadata": {},
          "execution_count": 10
        }
      ]
    },
    {
      "cell_type": "code",
      "metadata": {
        "colab": {
          "base_uri": "https://localhost:8080/",
          "height": 35
        },
        "id": "mW-Z92DLKjXg",
        "outputId": "137ac89a-6478-4343-cfeb-7f1a007c52e1"
      },
      "source": [
        "# lower()\n",
        "A.lower()"
      ],
      "execution_count": 11,
      "outputs": [
        {
          "output_type": "execute_result",
          "data": {
            "application/vnd.google.colaboratory.intrinsic+json": {
              "type": "string"
            },
            "text/plain": [
              "'belajar struktur data string'"
            ]
          },
          "metadata": {},
          "execution_count": 11
        }
      ]
    },
    {
      "cell_type": "code",
      "metadata": {
        "colab": {
          "base_uri": "https://localhost:8080/",
          "height": 35
        },
        "id": "evKtZPPbKocw",
        "outputId": "854af6a3-4f97-4b15-da36-d42a0679716b"
      },
      "source": [
        "# strip()\n",
        "A.strip()"
      ],
      "execution_count": 12,
      "outputs": [
        {
          "output_type": "execute_result",
          "data": {
            "application/vnd.google.colaboratory.intrinsic+json": {
              "type": "string"
            },
            "text/plain": [
              "'Belajar struktur data string'"
            ]
          },
          "metadata": {},
          "execution_count": 12
        }
      ]
    },
    {
      "cell_type": "code",
      "metadata": {
        "colab": {
          "base_uri": "https://localhost:8080/",
          "height": 35
        },
        "id": "SWoJ4QD_KsBt",
        "outputId": "687d6b4c-e520-4d4c-c4d0-36af5866c280"
      },
      "source": [
        "# replace()\n",
        "A.replace('l','d')"
      ],
      "execution_count": 13,
      "outputs": [
        {
          "output_type": "execute_result",
          "data": {
            "application/vnd.google.colaboratory.intrinsic+json": {
              "type": "string"
            },
            "text/plain": [
              "'Bedajar struktur data string'"
            ]
          },
          "metadata": {},
          "execution_count": 13
        }
      ]
    },
    {
      "cell_type": "code",
      "metadata": {
        "colab": {
          "base_uri": "https://localhost:8080/"
        },
        "id": "TKgTpBrZKzZ8",
        "outputId": "f85016cb-9ce0-4851-e000-ea9dec0152e5"
      },
      "source": [
        "# split()\n",
        "A.split()"
      ],
      "execution_count": 14,
      "outputs": [
        {
          "output_type": "execute_result",
          "data": {
            "text/plain": [
              "['Belajar', 'struktur', 'data', 'string']"
            ]
          },
          "metadata": {},
          "execution_count": 14
        }
      ]
    },
    {
      "cell_type": "markdown",
      "metadata": {
        "id": "2GFl0XnSK3zX"
      },
      "source": [
        "### Menggabungkan string"
      ]
    },
    {
      "cell_type": "code",
      "metadata": {
        "colab": {
          "base_uri": "https://localhost:8080/",
          "height": 35
        },
        "id": "CqS1G5WbK57T",
        "outputId": "2fcaeba4-35b2-450b-d479-9a64c9fa97cd"
      },
      "source": [
        "A = \"Belajar struktur data string\"\n",
        "B = \"Pejuang Data 3.0\"\n",
        "A + \" \" + B"
      ],
      "execution_count": 15,
      "outputs": [
        {
          "output_type": "execute_result",
          "data": {
            "application/vnd.google.colaboratory.intrinsic+json": {
              "type": "string"
            },
            "text/plain": [
              "'Belajar struktur data string Pejuang Data 3.0'"
            ]
          },
          "metadata": {},
          "execution_count": 15
        }
      ]
    },
    {
      "cell_type": "code",
      "metadata": {
        "colab": {
          "base_uri": "https://localhost:8080/",
          "height": 35
        },
        "id": "oNnbeyyOLFqM",
        "outputId": "283610dd-978e-4cfa-b526-6c388cec9938"
      },
      "source": [
        "# Ganti semua huruf vokal menjadi \"i\" pada string yang telah kaliat buat pada Latihan 1\n",
        "CC.replace('a', 'i')"
      ],
      "execution_count": 38,
      "outputs": [
        {
          "output_type": "execute_result",
          "data": {
            "application/vnd.google.colaboratory.intrinsic+json": {
              "type": "string"
            },
            "text/plain": [
              "'Cinti Kiti'"
            ]
          },
          "metadata": {},
          "execution_count": 38
        }
      ]
    }
  ]
}