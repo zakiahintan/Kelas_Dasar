{
  "nbformat": 4,
  "nbformat_minor": 0,
  "metadata": {
    "colab": {
      "name": "Untitled1.ipynb",
      "provenance": [],
      "collapsed_sections": [],
      "authorship_tag": "ABX9TyMuGvlsUuRlESB3dRr7fPLt",
      "include_colab_link": true
    },
    "kernelspec": {
      "name": "python3",
      "display_name": "Python 3"
    },
    "language_info": {
      "name": "python"
    }
  },
  "cells": [
    {
      "cell_type": "markdown",
      "metadata": {
        "id": "view-in-github",
        "colab_type": "text"
      },
      "source": [
        "<a href=\"https://colab.research.google.com/github/zakiahintan/Kelas_Dasar/blob/main/M1P2V1_Operator.ipynb\" target=\"_parent\"><img src=\"https://colab.research.google.com/assets/colab-badge.svg\" alt=\"Open In Colab\"/></a>"
      ]
    },
    {
      "cell_type": "markdown",
      "metadata": {
        "id": "k0OI9KoYEBt4"
      },
      "source": [
        "# Operator\n"
      ]
    },
    {
      "cell_type": "markdown",
      "metadata": {
        "id": "tMFKgWkvEcBM"
      },
      "source": [
        "Operator = simbol-simbol yang dapat digunakan untuk mengubah nilai dari satu variabel dengan melibatkan satu atau lebih variabel dan literal. Tipe-tipe operator :\n",
        "1. Operator Aritmatika\n",
        "2. Operator Assignment\n",
        "3. Operator Pembanding\n",
        "4. Operator Logika\n",
        "5. Operator Membership"
      ]
    },
    {
      "cell_type": "markdown",
      "metadata": {
        "id": "3YJk84U_E3AD"
      },
      "source": [
        "# Operator Aritmatika\n"
      ]
    },
    {
      "cell_type": "markdown",
      "metadata": {
        "id": "cZDUBSj8FNBf"
      },
      "source": [
        "Operator aritmatika digunakan untuk melakukan operasi matematika yang umum. Macam-macam operator aritmatika :"
      ]
    },
    {
      "cell_type": "markdown",
      "metadata": {
        "id": "qXIndltSFcTq"
      },
      "source": [
        "``` \n",
        "+  : Penjumlahan\n",
        "-  : Pengurangan\n",
        "*  : Perkalian\n",
        "/  : Pembagian\n",
        "%  : Modulus\n",
        "** : Perpangkatan\n",
        "// : Pembagian dengan hasil pembulatan flooring\n",
        "```"
      ]
    },
    {
      "cell_type": "code",
      "metadata": {
        "colab": {
          "base_uri": "https://localhost:8080/"
        },
        "id": "hY58TWgPGTiV",
        "outputId": "87dca182-f981-40f2-9172-4482a0fac67b"
      },
      "source": [
        "    # Contoh penggunaan operator aritmatika\n",
        "\n",
        "    #Penjumlahan \n",
        "    print('Penjumlahan')\n",
        "    print(2+2)\n",
        "    #Pengurangan\n",
        "    print('-'*20)\n",
        "    print('Pengurangan')\n",
        "    print(2-3)\n",
        "    #Perkalian\n",
        "    print('-'*20)\n",
        "    print('Perkalian')\n",
        "    print(2*3)\n",
        "    #Pembagian\n",
        "    print('-'*20)\n",
        "    print('Pembagian')\n",
        "    print(2/3)\n",
        "    #Modulus\n",
        "    print('-'*20)\n",
        "    print('Modulus')\n",
        "    print(2%3)\n",
        "    #Perpangkatan\n",
        "    print('-'*20)\n",
        "    print('Perpangkatan')\n",
        "    print(2**3)\n",
        "    #Pembagian Pembulatan Flooring\n",
        "    print('-'*20)\n",
        "    print('Pembagian Pembulatan Flooring')\n",
        "    print(3//2)"
      ],
      "execution_count": null,
      "outputs": [
        {
          "output_type": "stream",
          "name": "stdout",
          "text": [
            "Penjumlahan\n",
            "4\n",
            "--------------------\n",
            "Pengurangan\n",
            "-1\n",
            "--------------------\n",
            "Perkalian\n",
            "6\n",
            "--------------------\n",
            "Pembagian\n",
            "0.6666666666666666\n",
            "--------------------\n",
            "Modulus\n",
            "2\n",
            "--------------------\n",
            "Perpangkatan\n",
            "8\n",
            "--------------------\n",
            "Pembagian Pembulatan Flooring\n",
            "1\n"
          ]
        }
      ]
    },
    {
      "cell_type": "markdown",
      "metadata": {
        "id": "LOyWAsifKTLe"
      },
      "source": [
        "**Latihan Operator 1**"
      ]
    },
    {
      "cell_type": "code",
      "metadata": {
        "colab": {
          "base_uri": "https://localhost:8080/"
        },
        "id": "S41XwD-EKZ6j",
        "outputId": "4131471e-7c12-4470-af1d-e558fd435521"
      },
      "source": [
        "    # Buatlah program penerapan operator aritmatika\n",
        "    # dengan nilai-nilai yang berbeda dari contoh diatas\n",
        "    #Penjumlahan \n",
        "    print('Penjumlahan')\n",
        "    print(18+10)\n",
        "    #Pengurangan\n",
        "    print('-'*20)\n",
        "    print('Pengurangan')\n",
        "    print(18-10)\n",
        "    #Perkalian\n",
        "    print('-'*20)\n",
        "    print('Perkalian')\n",
        "    print(18*10)\n",
        "    #Pembagian\n",
        "    print('-'*20)\n",
        "    print('Pembagian')\n",
        "    print(18/10)\n",
        "    #Modulus\n",
        "    print('-'*20)\n",
        "    print('Modulus')\n",
        "    print(18%10)\n",
        "    #Perpangkatan\n",
        "    print('-'*20)\n",
        "    print('Perpangkatan')\n",
        "    print(3**3)\n",
        "    #Pembagian Pembulatan Flooring\n",
        "    print('-'*20)\n",
        "    print('Pembagian Pembulatan Flooring')\n",
        "    print(18//10)"
      ],
      "execution_count": null,
      "outputs": [
        {
          "output_type": "stream",
          "name": "stdout",
          "text": [
            "Penjumlahan\n",
            "28\n",
            "--------------------\n",
            "Pengurangan\n",
            "8\n",
            "--------------------\n",
            "Perkalian\n",
            "180\n",
            "--------------------\n",
            "Pembagian\n",
            "1.8\n",
            "--------------------\n",
            "Modulus\n",
            "8\n",
            "--------------------\n",
            "Perpangkatan\n",
            "27\n",
            "--------------------\n",
            "Pembagian Pembulatan Flooring\n",
            "1\n"
          ]
        }
      ]
    },
    {
      "cell_type": "markdown",
      "metadata": {
        "id": "gfVkvNDCLp8B"
      },
      "source": [
        "# Operator Assignment"
      ]
    },
    {
      "cell_type": "markdown",
      "metadata": {
        "id": "1WwZxyBfLuBI"
      },
      "source": [
        "Operator `assignment` digunakan untuk menyimpan nilai menjadi suatu variabel\n",
        "``` \n",
        "=    : contohnya x = 5 -> x + 5\n",
        "+=   : contohnya x = x + 5  -> x += 5\n",
        "-=   : contohnya x = x - 5  -> x -= 5\n",
        "*=   : contohnya x = x * 5  -> x *= 5\n",
        "/=   : contohnya x = x / 5  -> x /= 5\n",
        "%=   : contohnya x = x % 5  -> x %= 5\n",
        "//=  : contohnya x = x // 5 -> x //= 5\n",
        "**=  : contohnya x = x ** 5 -> x **= 5\n",
        "```"
      ]
    },
    {
      "cell_type": "code",
      "metadata": {
        "colab": {
          "base_uri": "https://localhost:8080/"
        },
        "id": "mfl5tSOsNWrW",
        "outputId": "c5422533-3c4a-44f5-de48-045def9f1f50"
      },
      "source": [
        "# Contoh penggunaan operator assignment \n",
        "# Penjumlahan\n",
        "print('Penjumlahan')\n",
        "x=5\n",
        "x=x+5\n",
        "print(x)\n",
        "x=5\n",
        "x+=3\n",
        "print(x)\n",
        "print('-'*20)\n",
        "\n",
        "# Pengurangan\n",
        "print('Pengurangan')\n",
        "x=5\n",
        "x=x-5\n",
        "print(x)\n",
        "x=5\n",
        "x-=3\n",
        "print(x)\n",
        "print('-'*20)"
      ],
      "execution_count": null,
      "outputs": [
        {
          "output_type": "stream",
          "name": "stdout",
          "text": [
            "Penjumlahan\n",
            "10\n",
            "8\n",
            "--------------------\n",
            "Pengurangan\n",
            "0\n",
            "2\n",
            "--------------------\n"
          ]
        }
      ]
    },
    {
      "cell_type": "code",
      "metadata": {
        "colab": {
          "base_uri": "https://localhost:8080/"
        },
        "id": "Zd8piZEfN_dN",
        "outputId": "349b53a9-edcf-4a4f-a138-f504626f3dd3"
      },
      "source": [
        "# Perkalian\n",
        "print('Perkalian')\n",
        "x=5\n",
        "x=x*5\n",
        "print(x)\n",
        "x=5\n",
        "x*=3\n",
        "print(x)\n",
        "print('-'*20)\n",
        "\n",
        "# Pembagian\n",
        "print('Pembagian')\n",
        "x=5\n",
        "x=x/5\n",
        "print(x)\n",
        "x=5\n",
        "x/=3\n",
        "print(x)\n",
        "print('-'*20)\n",
        "\n",
        "# Modulus\n",
        "print('Modulus')\n",
        "x=5\n",
        "x=x%5\n",
        "print(x)\n",
        "x=5\n",
        "x%=3\n",
        "print(x)\n",
        "print('-'*20)\n",
        "\n",
        "# Pembagian Flooring\n",
        "print('Pembagian flooring')\n",
        "x=5\n",
        "x=x//5\n",
        "print(x)\n",
        "x=5\n",
        "x//=3\n",
        "print(x)\n",
        "print('-'*20)\n",
        "\n",
        "# Perpangkatan\n",
        "print('Perpangkatan')\n",
        "x=5\n",
        "x=x**5\n",
        "print(x)\n",
        "x=5\n",
        "x**=3\n",
        "print(x)\n",
        "print('-'*20)"
      ],
      "execution_count": null,
      "outputs": [
        {
          "output_type": "stream",
          "name": "stdout",
          "text": [
            "Perkalian\n",
            "25\n",
            "15\n",
            "--------------------\n",
            "Pembagian\n",
            "1.0\n",
            "1.6666666666666667\n",
            "--------------------\n",
            "Modulus\n",
            "0\n",
            "2\n",
            "--------------------\n",
            "Pembagian flooring\n",
            "1\n",
            "1\n",
            "--------------------\n",
            "Perpangkatan\n",
            "3125\n",
            "125\n",
            "--------------------\n"
          ]
        }
      ]
    },
    {
      "cell_type": "markdown",
      "metadata": {
        "id": "6tfXFPRiO3Sb"
      },
      "source": [
        "**Latihan Operator 2**"
      ]
    },
    {
      "cell_type": "code",
      "metadata": {
        "colab": {
          "base_uri": "https://localhost:8080/"
        },
        "id": "mPN8ozBDO7UP",
        "outputId": "44c46cba-1e9c-4043-9c6c-66794e5a95e1"
      },
      "source": [
        "# Buatlah program penerapan operator assignment\n",
        "#dengan nilai-nilai yang berbeda dari contoh diatas\n",
        "# Penjumlahan\n",
        "print('Penjumlahan')\n",
        "x=18\n",
        "x=x+10\n",
        "print(x)\n",
        "x=8\n",
        "x+=6\n",
        "print(x)\n",
        "print('-'*20)\n",
        "\n",
        "# Pengurangan\n",
        "print('Pengurangan')\n",
        "x=18\n",
        "x=x-10\n",
        "print(x)\n",
        "x=8\n",
        "x-=6\n",
        "print(x)\n",
        "print('-'*20)\n",
        "# Perkalian\n",
        "print('Perkalian')\n",
        "x=18\n",
        "x=x*10\n",
        "print(x)\n",
        "x=8\n",
        "x*=6\n",
        "print(x)\n",
        "print('-'*20)\n",
        "\n",
        "# Pembagian\n",
        "print('Pembagian')\n",
        "x=18\n",
        "x=x/10\n",
        "print(x)\n",
        "x=8\n",
        "x/=6\n",
        "print(x)\n",
        "print('-'*20)\n",
        "\n",
        "# Modulus\n",
        "print('Modulus')\n",
        "x=18\n",
        "x=x%10\n",
        "print(x)\n",
        "x=8\n",
        "x%=6\n",
        "print(x)\n",
        "print('-'*20)\n",
        "\n",
        "# Pembagian Flooring\n",
        "print('Pembagian flooring')\n",
        "x=18\n",
        "x=x//10\n",
        "print(x)\n",
        "x=8\n",
        "x//=6\n",
        "print(x)\n",
        "print('-'*20)\n",
        "\n",
        "# Perpangkatan\n",
        "print('Perpangkatan')\n",
        "x=3\n",
        "x=x**5\n",
        "print(x)\n",
        "x=4\n",
        "x**=2\n",
        "print(x)\n",
        "print('-'*20)"
      ],
      "execution_count": null,
      "outputs": [
        {
          "output_type": "stream",
          "name": "stdout",
          "text": [
            "Penjumlahan\n",
            "28\n",
            "14\n",
            "--------------------\n",
            "Pengurangan\n",
            "8\n",
            "2\n",
            "--------------------\n",
            "Perkalian\n",
            "180\n",
            "48\n",
            "--------------------\n",
            "Pembagian\n",
            "1.8\n",
            "1.3333333333333333\n",
            "--------------------\n",
            "Modulus\n",
            "8\n",
            "2\n",
            "--------------------\n",
            "Pembagian flooring\n",
            "1\n",
            "1\n",
            "--------------------\n",
            "Perpangkatan\n",
            "243\n",
            "16\n",
            "--------------------\n"
          ]
        }
      ]
    },
    {
      "cell_type": "markdown",
      "metadata": {
        "id": "X6StOPMmPzgp"
      },
      "source": [
        "# Operator Pembanding"
      ]
    },
    {
      "cell_type": "markdown",
      "metadata": {
        "id": "nj6srvLXP2aW"
      },
      "source": [
        "Operator pembanding digunakan untuk membandingkan 2 nilai atau variabel. Macam-macam operator pembanding :\n",
        "```\n",
        "== -> samadengan\n",
        "!= -> tidak samadengan\n",
        ">  -> lebih dari\n",
        "<  -> kurang dari\n",
        ">= -> lebih dari dan samadengan\n",
        "<= -> kurang dari dan samadengan\n",
        "```"
      ]
    },
    {
      "cell_type": "code",
      "metadata": {
        "colab": {
          "base_uri": "https://localhost:8080/"
        },
        "id": "LZlWLey6QVtR",
        "outputId": "cb7ae064-81a3-4248-f2a0-7931da2a8dc8"
      },
      "source": [
        "# Contoh penggunaan operator pembanding\n",
        "print(2==2)\n",
        "print(2!=2)\n",
        "print(2>2)\n",
        "print(2<2)\n",
        "print(2>=2)\n",
        "print(2<=2)"
      ],
      "execution_count": null,
      "outputs": [
        {
          "output_type": "stream",
          "name": "stdout",
          "text": [
            "True\n",
            "False\n",
            "False\n",
            "False\n",
            "True\n",
            "True\n"
          ]
        }
      ]
    },
    {
      "cell_type": "markdown",
      "metadata": {
        "id": "0LRH6M-YQxBk"
      },
      "source": [
        "**Latihan Operator 3**"
      ]
    },
    {
      "cell_type": "code",
      "metadata": {
        "colab": {
          "base_uri": "https://localhost:8080/"
        },
        "id": "xsFAe_dVQz9y",
        "outputId": "0beb550e-4d05-4ad4-961f-ef4f72aa8a48"
      },
      "source": [
        "# Buatlah Program penerapan operator pembanding\n",
        "# dengan nilai-nilai yang berbeda dari contoh diatas\n",
        "print(18==10)\n",
        "print(18!=10)\n",
        "print(18>10)\n",
        "print(18<10)\n",
        "print(18>=10)\n",
        "print(18<=10)"
      ],
      "execution_count": null,
      "outputs": [
        {
          "output_type": "stream",
          "name": "stdout",
          "text": [
            "False\n",
            "True\n",
            "True\n",
            "False\n",
            "True\n",
            "False\n"
          ]
        }
      ]
    },
    {
      "cell_type": "markdown",
      "metadata": {
        "id": "V9vnNGPHRLtu"
      },
      "source": [
        "# Operator Logika"
      ]
    },
    {
      "cell_type": "markdown",
      "metadata": {
        "id": "tLGtyxQVROLU"
      },
      "source": [
        "Operator logika digunakan untuk mengombinasikan statement-statement kondisional. Macam-macam operator logika :\n",
        "```\n",
        "and -> kondisi menjadi benar apabila semua statementnya benar\n",
        "or  -> kondisi menjadi benar apabila salah satu statement ada yang benar\n",
        "not -> membalik hasil dari benar ke salah dan salah ke benar\n",
        "```"
      ]
    },
    {
      "cell_type": "code",
      "metadata": {
        "colab": {
          "base_uri": "https://localhost:8080/"
        },
        "id": "rdLk-HgcRn5n",
        "outputId": "f836b128-4816-49d8-f897-8a4d787794c5"
      },
      "source": [
        "# Contoh penggunaan operator logika\n",
        "print(True and False)\n",
        "print(False or False)\n",
        "print(not False and True)"
      ],
      "execution_count": null,
      "outputs": [
        {
          "output_type": "stream",
          "name": "stdout",
          "text": [
            "False\n",
            "False\n",
            "True\n"
          ]
        }
      ]
    },
    {
      "cell_type": "markdown",
      "metadata": {
        "id": "YmE2ciruR8-F"
      },
      "source": [
        "**Latihan operator 4**"
      ]
    },
    {
      "cell_type": "code",
      "metadata": {
        "colab": {
          "base_uri": "https://localhost:8080/"
        },
        "id": "twjWygQRR_or",
        "outputId": "e365fcf5-058e-4724-cfa6-1a50ebf0dd08"
      },
      "source": [
        "# Buatlah program penerapan operator logika\n",
        "# dengan nilai-nilai yang berbeda dari contoh diatas\n",
        "print(True and True)\n",
        "print(False or True)\n",
        "print(not True or False)"
      ],
      "execution_count": null,
      "outputs": [
        {
          "output_type": "stream",
          "name": "stdout",
          "text": [
            "True\n",
            "True\n",
            "False\n"
          ]
        }
      ]
    },
    {
      "cell_type": "markdown",
      "metadata": {
        "id": "pA76Etr-SUOc"
      },
      "source": [
        "# Operator keanggotaan "
      ]
    },
    {
      "cell_type": "markdown",
      "metadata": {
        "id": "DYn67N60SW8M"
      },
      "source": [
        "Operator keanggotaan digunakan untuk menguji apakah urutan disajikan dalam suatu objek. Macam-macam operator keanggotaan :\n",
        "```\n",
        "in     -> return True ketika nilai tertentu dalam sbeuah urutan ada\n",
        "not in -> return True ketika nilai tertentu dalam sebuah urutan tidak ada"
      ]
    },
    {
      "cell_type": "code",
      "metadata": {
        "colab": {
          "base_uri": "https://localhost:8080/"
        },
        "id": "StYvGN8wSr_3",
        "outputId": "ac5487c2-9a9c-4213-ec6a-5c26d7c70cb0"
      },
      "source": [
        "# Contoh penggunaan operator keanggotaan\n",
        "a=(1,2,3,4,5,6)\n",
        "b=2\n",
        "print(b in a)\n",
        "print('-'*20)\n",
        "a=(1,2,3,4,5,6)\n",
        "b=7\n",
        "print(b not in a)"
      ],
      "execution_count": null,
      "outputs": [
        {
          "output_type": "stream",
          "name": "stdout",
          "text": [
            "True\n",
            "--------------------\n",
            "True\n"
          ]
        }
      ]
    },
    {
      "cell_type": "markdown",
      "metadata": {
        "id": "Ta8udGARTBXb"
      },
      "source": [
        "**Latihan Operator 5**"
      ]
    },
    {
      "cell_type": "code",
      "metadata": {
        "colab": {
          "base_uri": "https://localhost:8080/"
        },
        "id": "sxljGUNDTD8f",
        "outputId": "864d2850-febf-480e-82ef-912ba1157337"
      },
      "source": [
        "# Buatlah program penerapan operator keanggotaan/membership\n",
        "# dengan nilai-nilai yang berbeda dari contoh di atas\n",
        "a=(1,4,9,16,25)\n",
        "b=9\n",
        "print(b in a)\n",
        "print('-'*20)\n",
        "a=(1,4,9,16,25)\n",
        "b=18\n",
        "print(b not in a)"
      ],
      "execution_count": null,
      "outputs": [
        {
          "output_type": "stream",
          "name": "stdout",
          "text": [
            "True\n",
            "--------------------\n",
            "True\n"
          ]
        }
      ]
    }
  ]
}